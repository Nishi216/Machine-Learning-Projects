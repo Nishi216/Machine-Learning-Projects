{
 "cells": [
  {
   "cell_type": "markdown",
   "id": "1b794c66",
   "metadata": {},
   "source": [
    "## Prediction of CO2 emission of a vehicle"
   ]
  },
  {
   "cell_type": "markdown",
   "id": "1941db56",
   "metadata": {},
   "source": [
    "In this project, we are going to predict the CO2 emission of a vehicle using the different features of a dataset given. The fuel consumption dataset is used for the purpose and is taken from Kaggle. <br>\n",
    "All the columns in the dataset will be taken as features, using which we will predict the co2 emission and thus co2 emission column is basically our target variable. <br>\n",
    "As we are doing simple linear regression, so we will be considering single features and will find out the target prediction corresponding to each single feature."
   ]
  },
  {
   "cell_type": "markdown",
   "id": "8bb46767",
   "metadata": {},
   "source": [
    "### Import all the necessary modules needed for the evaluation"
   ]
  },
  {
   "cell_type": "code",
   "execution_count": 2,
   "id": "3906b9c5",
   "metadata": {},
   "outputs": [],
   "source": [
    "import pandas as pd\n",
    "import numpy as np\n",
    "import matplotlib.pyplot as plt\n",
    "%matplotlib inline"
   ]
  },
  {
   "cell_type": "markdown",
   "id": "ac76192c",
   "metadata": {},
   "source": [
    "### Import the csv file containing the data on fuel consumption"
   ]
  },
  {
   "cell_type": "code",
   "execution_count": 5,
   "id": "46aef9fe",
   "metadata": {},
   "outputs": [
    {
     "data": {
      "text/html": [
       "<div>\n",
       "<style scoped>\n",
       "    .dataframe tbody tr th:only-of-type {\n",
       "        vertical-align: middle;\n",
       "    }\n",
       "\n",
       "    .dataframe tbody tr th {\n",
       "        vertical-align: top;\n",
       "    }\n",
       "\n",
       "    .dataframe thead th {\n",
       "        text-align: right;\n",
       "    }\n",
       "</style>\n",
       "<table border=\"1\" class=\"dataframe\">\n",
       "  <thead>\n",
       "    <tr style=\"text-align: right;\">\n",
       "      <th></th>\n",
       "      <th>MODELYEAR</th>\n",
       "      <th>MAKE</th>\n",
       "      <th>MODEL</th>\n",
       "      <th>VEHICLECLASS</th>\n",
       "      <th>ENGINESIZE</th>\n",
       "      <th>CYLINDERS</th>\n",
       "      <th>TRANSMISSION</th>\n",
       "      <th>FUELTYPE</th>\n",
       "      <th>FUELCONSUMPTION_CITY</th>\n",
       "      <th>FUELCONSUMPTION_HWY</th>\n",
       "      <th>FUELCONSUMPTION_COMB</th>\n",
       "      <th>FUELCONSUMPTION_COMB_MPG</th>\n",
       "      <th>CO2EMISSIONS</th>\n",
       "    </tr>\n",
       "  </thead>\n",
       "  <tbody>\n",
       "    <tr>\n",
       "      <th>0</th>\n",
       "      <td>2014</td>\n",
       "      <td>ACURA</td>\n",
       "      <td>ILX</td>\n",
       "      <td>COMPACT</td>\n",
       "      <td>2.0</td>\n",
       "      <td>4</td>\n",
       "      <td>AS5</td>\n",
       "      <td>Z</td>\n",
       "      <td>9.9</td>\n",
       "      <td>6.7</td>\n",
       "      <td>8.5</td>\n",
       "      <td>33</td>\n",
       "      <td>196</td>\n",
       "    </tr>\n",
       "    <tr>\n",
       "      <th>1</th>\n",
       "      <td>2014</td>\n",
       "      <td>ACURA</td>\n",
       "      <td>ILX</td>\n",
       "      <td>COMPACT</td>\n",
       "      <td>2.4</td>\n",
       "      <td>4</td>\n",
       "      <td>M6</td>\n",
       "      <td>Z</td>\n",
       "      <td>11.2</td>\n",
       "      <td>7.7</td>\n",
       "      <td>9.6</td>\n",
       "      <td>29</td>\n",
       "      <td>221</td>\n",
       "    </tr>\n",
       "    <tr>\n",
       "      <th>2</th>\n",
       "      <td>2014</td>\n",
       "      <td>ACURA</td>\n",
       "      <td>ILX HYBRID</td>\n",
       "      <td>COMPACT</td>\n",
       "      <td>1.5</td>\n",
       "      <td>4</td>\n",
       "      <td>AV7</td>\n",
       "      <td>Z</td>\n",
       "      <td>6.0</td>\n",
       "      <td>5.8</td>\n",
       "      <td>5.9</td>\n",
       "      <td>48</td>\n",
       "      <td>136</td>\n",
       "    </tr>\n",
       "    <tr>\n",
       "      <th>3</th>\n",
       "      <td>2014</td>\n",
       "      <td>ACURA</td>\n",
       "      <td>MDX 4WD</td>\n",
       "      <td>SUV - SMALL</td>\n",
       "      <td>3.5</td>\n",
       "      <td>6</td>\n",
       "      <td>AS6</td>\n",
       "      <td>Z</td>\n",
       "      <td>12.7</td>\n",
       "      <td>9.1</td>\n",
       "      <td>11.1</td>\n",
       "      <td>25</td>\n",
       "      <td>255</td>\n",
       "    </tr>\n",
       "    <tr>\n",
       "      <th>4</th>\n",
       "      <td>2014</td>\n",
       "      <td>ACURA</td>\n",
       "      <td>RDX AWD</td>\n",
       "      <td>SUV - SMALL</td>\n",
       "      <td>3.5</td>\n",
       "      <td>6</td>\n",
       "      <td>AS6</td>\n",
       "      <td>Z</td>\n",
       "      <td>12.1</td>\n",
       "      <td>8.7</td>\n",
       "      <td>10.6</td>\n",
       "      <td>27</td>\n",
       "      <td>244</td>\n",
       "    </tr>\n",
       "  </tbody>\n",
       "</table>\n",
       "</div>"
      ],
      "text/plain": [
       "   MODELYEAR   MAKE       MODEL VEHICLECLASS  ENGINESIZE  CYLINDERS  \\\n",
       "0       2014  ACURA         ILX      COMPACT         2.0          4   \n",
       "1       2014  ACURA         ILX      COMPACT         2.4          4   \n",
       "2       2014  ACURA  ILX HYBRID      COMPACT         1.5          4   \n",
       "3       2014  ACURA     MDX 4WD  SUV - SMALL         3.5          6   \n",
       "4       2014  ACURA     RDX AWD  SUV - SMALL         3.5          6   \n",
       "\n",
       "  TRANSMISSION FUELTYPE  FUELCONSUMPTION_CITY  FUELCONSUMPTION_HWY  \\\n",
       "0          AS5        Z                   9.9                  6.7   \n",
       "1           M6        Z                  11.2                  7.7   \n",
       "2          AV7        Z                   6.0                  5.8   \n",
       "3          AS6        Z                  12.7                  9.1   \n",
       "4          AS6        Z                  12.1                  8.7   \n",
       "\n",
       "   FUELCONSUMPTION_COMB  FUELCONSUMPTION_COMB_MPG  CO2EMISSIONS  \n",
       "0                   8.5                        33           196  \n",
       "1                   9.6                        29           221  \n",
       "2                   5.9                        48           136  \n",
       "3                  11.1                        25           255  \n",
       "4                  10.6                        27           244  "
      ]
     },
     "execution_count": 5,
     "metadata": {},
     "output_type": "execute_result"
    }
   ],
   "source": [
    "df = pd.read_csv('fuel.csv')        #loading the dataset\n",
    "df.head()            #looking into  first five records"
   ]
  },
  {
   "cell_type": "code",
   "execution_count": 6,
   "id": "91019338",
   "metadata": {},
   "outputs": [
    {
     "data": {
      "text/plain": [
       "(1067, 13)"
      ]
     },
     "execution_count": 6,
     "metadata": {},
     "output_type": "execute_result"
    }
   ],
   "source": [
    "df.shape           #finding out the shape of the dataset"
   ]
  },
  {
   "cell_type": "markdown",
   "id": "edb1cc0f",
   "metadata": {},
   "source": [
    "<p> So, we have the dataset with 13 columns, but for our simple linear regression purpose we need fewer columns. Thus, we can reduce the set of columns needed and work only with the desired data. <br>\n",
    "Let's find out the fuel consumption of the city at first, along with its CO2 emissions, and using vehicle specifications of engine size and cylinders. </p>"
   ]
  },
  {
   "cell_type": "code",
   "execution_count": 8,
   "id": "53040733",
   "metadata": {},
   "outputs": [
    {
     "data": {
      "text/html": [
       "<div>\n",
       "<style scoped>\n",
       "    .dataframe tbody tr th:only-of-type {\n",
       "        vertical-align: middle;\n",
       "    }\n",
       "\n",
       "    .dataframe tbody tr th {\n",
       "        vertical-align: top;\n",
       "    }\n",
       "\n",
       "    .dataframe thead th {\n",
       "        text-align: right;\n",
       "    }\n",
       "</style>\n",
       "<table border=\"1\" class=\"dataframe\">\n",
       "  <thead>\n",
       "    <tr style=\"text-align: right;\">\n",
       "      <th></th>\n",
       "      <th>ENGINESIZE</th>\n",
       "      <th>CYLINDERS</th>\n",
       "      <th>FUELCONSUMPTION_CITY</th>\n",
       "      <th>CO2EMISSIONS</th>\n",
       "    </tr>\n",
       "  </thead>\n",
       "  <tbody>\n",
       "    <tr>\n",
       "      <th>0</th>\n",
       "      <td>2.0</td>\n",
       "      <td>4</td>\n",
       "      <td>9.9</td>\n",
       "      <td>196</td>\n",
       "    </tr>\n",
       "    <tr>\n",
       "      <th>1</th>\n",
       "      <td>2.4</td>\n",
       "      <td>4</td>\n",
       "      <td>11.2</td>\n",
       "      <td>221</td>\n",
       "    </tr>\n",
       "    <tr>\n",
       "      <th>2</th>\n",
       "      <td>1.5</td>\n",
       "      <td>4</td>\n",
       "      <td>6.0</td>\n",
       "      <td>136</td>\n",
       "    </tr>\n",
       "    <tr>\n",
       "      <th>3</th>\n",
       "      <td>3.5</td>\n",
       "      <td>6</td>\n",
       "      <td>12.7</td>\n",
       "      <td>255</td>\n",
       "    </tr>\n",
       "    <tr>\n",
       "      <th>4</th>\n",
       "      <td>3.5</td>\n",
       "      <td>6</td>\n",
       "      <td>12.1</td>\n",
       "      <td>244</td>\n",
       "    </tr>\n",
       "  </tbody>\n",
       "</table>\n",
       "</div>"
      ],
      "text/plain": [
       "   ENGINESIZE  CYLINDERS  FUELCONSUMPTION_CITY  CO2EMISSIONS\n",
       "0         2.0          4                   9.9           196\n",
       "1         2.4          4                  11.2           221\n",
       "2         1.5          4                   6.0           136\n",
       "3         3.5          6                  12.7           255\n",
       "4         3.5          6                  12.1           244"
      ]
     },
     "execution_count": 8,
     "metadata": {},
     "output_type": "execute_result"
    }
   ],
   "source": [
    "data = df[['ENGINESIZE', 'CYLINDERS', 'FUELCONSUMPTION_CITY', 'CO2EMISSIONS']]\n",
    "data.head()"
   ]
  },
  {
   "cell_type": "markdown",
   "id": "a87fd2b5",
   "metadata": {},
   "source": [
    "#### Let's plot each of the features against the emission to see how the CO2 emission varies with the features."
   ]
  },
  {
   "cell_type": "code",
   "execution_count": 11,
   "id": "6418e27f",
   "metadata": {},
   "outputs": [
    {
     "data": {
      "image/png": "[encoded data removed]",
      "text/plain": [
       "<Figure size 432x288 with 1 Axes>"
      ]
     },
     "metadata": {
      "needs_background": "light"
     },
     "output_type": "display_data"
    }
   ],
   "source": [
    "# Plot between the engine size and the co2 emissions\n",
    "\n",
    "plt.scatter(data.ENGINESIZE, data.CO2EMISSIONS, color='red')\n",
    "plt.xlabel('Engine size')\n",
    "plt.ylabel('CO2 Emissions')\n",
    "plt.show();"
   ]
  },
  {
   "cell_type": "markdown",
   "id": "66fe3daf",
   "metadata": {},
   "source": [
    "From the above graph, it can be seen that the emission increases with the increase in the engine size on an average."
   ]
  },
  {
   "cell_type": "code",
   "execution_count": 12,
   "id": "2037cc5e",
   "metadata": {},
   "outputs": [
    {
     "data": {
      "image/png": "[encoded data removed]",
      "text/plain": [
       "<Figure size 432x288 with 1 Axes>"
      ]
     },
     "metadata": {
      "needs_background": "light"
     },
     "output_type": "display_data"
    }
   ],
   "source": [
    "# Plot between the cylinders and the co2 emissions\n",
    "\n",
    "plt.scatter(data.CYLINDERS, data.CO2EMISSIONS, color='red')\n",
    "plt.xlabel('Cylinders')\n",
    "plt.ylabel('CO2 Emissions')\n",
    "plt.show();"
   ]
  },
  {
   "cell_type": "markdown",
   "id": "7c253e4b",
   "metadata": {},
   "source": [
    "From the above graph, it can be seen that the emission reaches more when the number of cylinders is 10. On an average, the emission is more when the number of cylinders is 12. So, we can say that the emission increases with the increase in number of cylinders."
   ]
  },
  {
   "cell_type": "code",
   "execution_count": 13,
   "id": "7dd1d6b0",
   "metadata": {},
   "outputs": [
    {
     "data": {
      "image/png": "[encoded data removed]",
      "text/plain": [
       "<Figure size 432x288 with 1 Axes>"
      ]
     },
     "metadata": {
      "needs_background": "light"
     },
     "output_type": "display_data"
    }
   ],
   "source": [
    "# Plot between the fuel consumption in city and the co2 emissions\n",
    "\n",
    "plt.scatter(data.FUELCONSUMPTION_CITY, data.CO2EMISSIONS, color='red')\n",
    "plt.xlabel('Fuel Consumption in City')\n",
    "plt.ylabel('CO2 Emissions')\n",
    "plt.show();"
   ]
  },
  {
   "cell_type": "markdown",
   "id": "052a69bd",
   "metadata": {},
   "source": [
    "From the above graph we can see that the emission increases with the increase in fuel consumption in the city."
   ]
  },
  {
   "cell_type": "markdown",
   "id": "24f65137",
   "metadata": {},
   "source": [
    "### Training and splitting the dataset."
   ]
  },
  {
   "cell_type": "markdown",
   "id": "ba92aad8",
   "metadata": {},
   "source": [
    "After looking into the dataset and all the data values and how the columns are related to the target column of emission, now it is the time to split the data into train and test dataset. Train data will be used for training the model and test data will be used for evaluation of the model accuracy, and to check if the model can give a high out of sample accuracy. <br>\n",
    "First we will do the prediction of emission using the engine size column."
   ]
  },
  {
   "cell_type": "code",
   "execution_count": 16,
   "id": "76493eeb",
   "metadata": {},
   "outputs": [
    {
     "data": {
      "text/html": [
       "<div>\n",
       "<style scoped>\n",
       "    .dataframe tbody tr th:only-of-type {\n",
       "        vertical-align: middle;\n",
       "    }\n",
       "\n",
       "    .dataframe tbody tr th {\n",
       "        vertical-align: top;\n",
       "    }\n",
       "\n",
       "    .dataframe thead th {\n",
       "        text-align: right;\n",
       "    }\n",
       "</style>\n",
       "<table border=\"1\" class=\"dataframe\">\n",
       "  <thead>\n",
       "    <tr style=\"text-align: right;\">\n",
       "      <th></th>\n",
       "      <th>ENGINESIZE</th>\n",
       "      <th>CYLINDERS</th>\n",
       "      <th>FUELCONSUMPTION_CITY</th>\n",
       "      <th>CO2EMISSIONS</th>\n",
       "    </tr>\n",
       "  </thead>\n",
       "  <tbody>\n",
       "    <tr>\n",
       "      <th>0</th>\n",
       "      <td>2.0</td>\n",
       "      <td>4</td>\n",
       "      <td>9.9</td>\n",
       "      <td>196</td>\n",
       "    </tr>\n",
       "    <tr>\n",
       "      <th>1</th>\n",
       "      <td>2.4</td>\n",
       "      <td>4</td>\n",
       "      <td>11.2</td>\n",
       "      <td>221</td>\n",
       "    </tr>\n",
       "    <tr>\n",
       "      <th>2</th>\n",
       "      <td>1.5</td>\n",
       "      <td>4</td>\n",
       "      <td>6.0</td>\n",
       "      <td>136</td>\n",
       "    </tr>\n",
       "    <tr>\n",
       "      <th>3</th>\n",
       "      <td>3.5</td>\n",
       "      <td>6</td>\n",
       "      <td>12.7</td>\n",
       "      <td>255</td>\n",
       "    </tr>\n",
       "    <tr>\n",
       "      <th>4</th>\n",
       "      <td>3.5</td>\n",
       "      <td>6</td>\n",
       "      <td>12.1</td>\n",
       "      <td>244</td>\n",
       "    </tr>\n",
       "    <tr>\n",
       "      <th>...</th>\n",
       "      <td>...</td>\n",
       "      <td>...</td>\n",
       "      <td>...</td>\n",
       "      <td>...</td>\n",
       "    </tr>\n",
       "    <tr>\n",
       "      <th>1062</th>\n",
       "      <td>3.0</td>\n",
       "      <td>6</td>\n",
       "      <td>13.4</td>\n",
       "      <td>271</td>\n",
       "    </tr>\n",
       "    <tr>\n",
       "      <th>1063</th>\n",
       "      <td>3.2</td>\n",
       "      <td>6</td>\n",
       "      <td>13.2</td>\n",
       "      <td>264</td>\n",
       "    </tr>\n",
       "    <tr>\n",
       "      <th>1064</th>\n",
       "      <td>3.0</td>\n",
       "      <td>6</td>\n",
       "      <td>13.4</td>\n",
       "      <td>271</td>\n",
       "    </tr>\n",
       "    <tr>\n",
       "      <th>1065</th>\n",
       "      <td>3.2</td>\n",
       "      <td>6</td>\n",
       "      <td>12.9</td>\n",
       "      <td>260</td>\n",
       "    </tr>\n",
       "    <tr>\n",
       "      <th>1066</th>\n",
       "      <td>3.2</td>\n",
       "      <td>6</td>\n",
       "      <td>14.9</td>\n",
       "      <td>294</td>\n",
       "    </tr>\n",
       "  </tbody>\n",
       "</table>\n",
       "<p>860 rows × 4 columns</p>\n",
       "</div>"
      ],
      "text/plain": [
       "      ENGINESIZE  CYLINDERS  FUELCONSUMPTION_CITY  CO2EMISSIONS\n",
       "0            2.0          4                   9.9           196\n",
       "1            2.4          4                  11.2           221\n",
       "2            1.5          4                   6.0           136\n",
       "3            3.5          6                  12.7           255\n",
       "4            3.5          6                  12.1           244\n",
       "...          ...        ...                   ...           ...\n",
       "1062         3.0          6                  13.4           271\n",
       "1063         3.2          6                  13.2           264\n",
       "1064         3.0          6                  13.4           271\n",
       "1065         3.2          6                  12.9           260\n",
       "1066         3.2          6                  14.9           294\n",
       "\n",
       "[860 rows x 4 columns]"
      ]
     },
     "execution_count": 16,
     "metadata": {},
     "output_type": "execute_result"
    }
   ],
   "source": [
    "mask = np.random.rand(len(data)) < 0.8     #to get randomly generated 80% of the data\n",
    "train = data[mask]         #80% of the data is taken for training\n",
    "train"
   ]
  },
  {
   "cell_type": "code",
   "execution_count": 18,
   "id": "632bfb82",
   "metadata": {},
   "outputs": [
    {
     "data": {
      "text/html": [
       "<div>\n",
       "<style scoped>\n",
       "    .dataframe tbody tr th:only-of-type {\n",
       "        vertical-align: middle;\n",
       "    }\n",
       "\n",
       "    .dataframe tbody tr th {\n",
       "        vertical-align: top;\n",
       "    }\n",
       "\n",
       "    .dataframe thead th {\n",
       "        text-align: right;\n",
       "    }\n",
       "</style>\n",
       "<table border=\"1\" class=\"dataframe\">\n",
       "  <thead>\n",
       "    <tr style=\"text-align: right;\">\n",
       "      <th></th>\n",
       "      <th>ENGINESIZE</th>\n",
       "      <th>CYLINDERS</th>\n",
       "      <th>FUELCONSUMPTION_CITY</th>\n",
       "      <th>CO2EMISSIONS</th>\n",
       "    </tr>\n",
       "  </thead>\n",
       "  <tbody>\n",
       "    <tr>\n",
       "      <th>13</th>\n",
       "      <td>5.9</td>\n",
       "      <td>12</td>\n",
       "      <td>18.0</td>\n",
       "      <td>359</td>\n",
       "    </tr>\n",
       "    <tr>\n",
       "      <th>15</th>\n",
       "      <td>4.7</td>\n",
       "      <td>8</td>\n",
       "      <td>18.1</td>\n",
       "      <td>354</td>\n",
       "    </tr>\n",
       "    <tr>\n",
       "      <th>17</th>\n",
       "      <td>4.7</td>\n",
       "      <td>8</td>\n",
       "      <td>18.1</td>\n",
       "      <td>354</td>\n",
       "    </tr>\n",
       "    <tr>\n",
       "      <th>19</th>\n",
       "      <td>2.0</td>\n",
       "      <td>4</td>\n",
       "      <td>9.9</td>\n",
       "      <td>202</td>\n",
       "    </tr>\n",
       "    <tr>\n",
       "      <th>21</th>\n",
       "      <td>2.0</td>\n",
       "      <td>4</td>\n",
       "      <td>10.8</td>\n",
       "      <td>214</td>\n",
       "    </tr>\n",
       "    <tr>\n",
       "      <th>...</th>\n",
       "      <td>...</td>\n",
       "      <td>...</td>\n",
       "      <td>...</td>\n",
       "      <td>...</td>\n",
       "    </tr>\n",
       "    <tr>\n",
       "      <th>1035</th>\n",
       "      <td>1.8</td>\n",
       "      <td>4</td>\n",
       "      <td>9.4</td>\n",
       "      <td>189</td>\n",
       "    </tr>\n",
       "    <tr>\n",
       "      <th>1043</th>\n",
       "      <td>1.8</td>\n",
       "      <td>4</td>\n",
       "      <td>9.9</td>\n",
       "      <td>198</td>\n",
       "    </tr>\n",
       "    <tr>\n",
       "      <th>1050</th>\n",
       "      <td>3.6</td>\n",
       "      <td>6</td>\n",
       "      <td>14.2</td>\n",
       "      <td>278</td>\n",
       "    </tr>\n",
       "    <tr>\n",
       "      <th>1057</th>\n",
       "      <td>2.5</td>\n",
       "      <td>5</td>\n",
       "      <td>11.6</td>\n",
       "      <td>232</td>\n",
       "    </tr>\n",
       "    <tr>\n",
       "      <th>1060</th>\n",
       "      <td>3.0</td>\n",
       "      <td>6</td>\n",
       "      <td>13.2</td>\n",
       "      <td>264</td>\n",
       "    </tr>\n",
       "  </tbody>\n",
       "</table>\n",
       "<p>207 rows × 4 columns</p>\n",
       "</div>"
      ],
      "text/plain": [
       "      ENGINESIZE  CYLINDERS  FUELCONSUMPTION_CITY  CO2EMISSIONS\n",
       "13           5.9         12                  18.0           359\n",
       "15           4.7          8                  18.1           354\n",
       "17           4.7          8                  18.1           354\n",
       "19           2.0          4                   9.9           202\n",
       "21           2.0          4                  10.8           214\n",
       "...          ...        ...                   ...           ...\n",
       "1035         1.8          4                   9.4           189\n",
       "1043         1.8          4                   9.9           198\n",
       "1050         3.6          6                  14.2           278\n",
       "1057         2.5          5                  11.6           232\n",
       "1060         3.0          6                  13.2           264\n",
       "\n",
       "[207 rows x 4 columns]"
      ]
     },
     "execution_count": 18,
     "metadata": {},
     "output_type": "execute_result"
    }
   ],
   "source": [
    "test = data[~mask]       #rest of the 20% is taken for testing, which do not belong to the training set\n",
    "test"
   ]
  },
  {
   "cell_type": "markdown",
   "id": "0296b5d9",
   "metadata": {},
   "source": [
    "Before progressing, let's see how the training and the testing data set features vary with emission. We will pick on feature for this purpose. Let's look into how the engine size varies with emission for both the training and the testing dataset."
   ]
  },
  {
   "cell_type": "code",
   "execution_count": 19,
   "id": "2be0a93e",
   "metadata": {},
   "outputs": [
    {
     "data": {
      "image/png": "[encoded data removed]",
      "text/plain": [
       "<Figure size 432x288 with 1 Axes>"
      ]
     },
     "metadata": {
      "needs_background": "light"
     },
     "output_type": "display_data"
    }
   ],
   "source": [
    "# Using the training dataset\n",
    "\n",
    "plt.scatter(train.ENGINESIZE, train.CO2EMISSIONS)\n",
    "plt.xlabel('Engine Size')\n",
    "plt.ylabel('CO2 Emissions')\n",
    "plt.title('Training Dataset')\n",
    "plt.show();"
   ]
  },
  {
   "cell_type": "code",
   "execution_count": 20,
   "id": "47cd75c8",
   "metadata": {},
   "outputs": [
    {
     "data": {
      "image/png": "[encoded data removed]",
      "text/plain": [
       "<Figure size 432x288 with 1 Axes>"
      ]
     },
     "metadata": {
      "needs_background": "light"
     },
     "output_type": "display_data"
    }
   ],
   "source": [
    "# Using the testing dataset\n",
    "\n",
    "plt.scatter(test.ENGINESIZE, test.CO2EMISSIONS)\n",
    "plt.xlabel('Engine Size')\n",
    "plt.ylabel('CO2 Emissions')\n",
    "plt.title('Testing Dataset')\n",
    "plt.show();"
   ]
  },
  {
   "cell_type": "markdown",
   "id": "d129c0a0",
   "metadata": {},
   "source": [
    "### Modeling the data"
   ]
  },
  {
   "cell_type": "markdown",
   "id": "61655d08",
   "metadata": {},
   "source": [
    "Now comes the part where we will model out dataset. That is we will fit the features into the simple linear regression model, so that it can give us an accurate value of the target variable, which in our case is emission data."
   ]
  },
  {
   "cell_type": "code",
   "execution_count": 26,
   "id": "c6737749",
   "metadata": {},
   "outputs": [],
   "source": [
    "from sklearn.linear_model import LinearRegression\n",
    "regr = LinearRegression()\n",
    "train_x = np.asanyarray(train[['ENGINESIZE']])\n",
    "train_y = np.asanyarray(train[['CO2EMISSIONS']])"
   ]
  },
  {
   "cell_type": "code",
   "execution_count": 27,
   "id": "66208279",
   "metadata": {},
   "outputs": [
    {
     "data": {
      "text/plain": [
       "LinearRegression()"
      ]
     },
     "execution_count": 27,
     "metadata": {},
     "output_type": "execute_result"
    }
   ],
   "source": [
    "regr.fit(train_x, train_y)"
   ]
  },
  {
   "cell_type": "code",
   "execution_count": 30,
   "id": "f094dda1",
   "metadata": {},
   "outputs": [
    {
     "name": "stdout",
     "output_type": "stream",
     "text": [
      "Coefficient of the Linear regression line is:   [[39.18862932]]\n",
      "Intercept of the Linear regression line is:   [125.62491529]\n"
     ]
    }
   ],
   "source": [
    "print('Coefficient of the Linear regression line is:  ', regr.coef_)\n",
    "print('Intercept of the Linear regression line is:  ',regr.intercept_)"
   ]
  },
  {
   "cell_type": "markdown",
   "id": "ee81cfae",
   "metadata": {},
   "source": [
    "#### Now, we will look into how well the predicted line will fit into the data"
   ]
  },
  {
   "cell_type": "code",
   "execution_count": 32,
   "id": "207495d8",
   "metadata": {},
   "outputs": [
    {
     "data": {
      "image/png": "[encoded data removed]",
      "text/plain": [
       "<Figure size 432x288 with 1 Axes>"
      ]
     },
     "metadata": {
      "needs_background": "light"
     },
     "output_type": "display_data"
    }
   ],
   "source": [
    "plt.scatter(train.ENGINESIZE, train.CO2EMISSIONS, color='red')\n",
    "yhat = regr.intercept_ + regr.coef_*train_x\n",
    "plt.plot(train_x, yhat, color='black')\n",
    "plt.xlabel('Engine Size')\n",
    "plt.ylabel('CO2 Emission')\n",
    "plt.show();"
   ]
  },
  {
   "cell_type": "markdown",
   "id": "0441a162",
   "metadata": {},
   "source": [
    "#### At last, we will evaluate the model accuracy with the test data set."
   ]
  },
  {
   "cell_type": "code",
   "execution_count": 38,
   "id": "9d999976",
   "metadata": {},
   "outputs": [],
   "source": [
    "from sklearn.metrics import r2_score\n",
    "test_x = np.asanyarray(test[['ENGINESIZE']])\n",
    "test_y = np.asanyarray(test[['CO2EMISSIONS']])\n"
   ]
  },
  {
   "cell_type": "code",
   "execution_count": 35,
   "id": "69a6f593",
   "metadata": {},
   "outputs": [
    {
     "data": {
      "text/plain": [
       "array([[356.83782829],\n",
       "       [309.8114731 ],\n",
       "       [309.8114731 ],\n",
       "       [204.00217393],\n",
       "       [204.00217393],\n",
       "       [204.00217393],\n",
       "       [204.00217393],\n",
       "       [204.00217393],\n",
       "       [282.37943258],\n",
       "       [282.37943258],\n",
       "       [204.00217393],\n",
       "       [290.21715844],\n",
       "       [290.21715844],\n",
       "       [243.19080325],\n",
       "       [282.37943258],\n",
       "       [282.37943258],\n",
       "       [204.00217393],\n",
       "       [204.00217393],\n",
       "       [204.00217393],\n",
       "       [204.00217393],\n",
       "       [204.00217393],\n",
       "       [204.00217393],\n",
       "       [243.19080325],\n",
       "       [243.19080325],\n",
       "       [243.19080325],\n",
       "       [204.00217393],\n",
       "       [243.19080325],\n",
       "       [243.19080325],\n",
       "       [243.19080325],\n",
       "       [298.0548843 ],\n",
       "       [298.0548843 ],\n",
       "       [360.75669122],\n",
       "       [243.19080325],\n",
       "       [298.0548843 ],\n",
       "       [298.0548843 ],\n",
       "       [266.70398085],\n",
       "       [266.70398085],\n",
       "       [204.00217393],\n",
       "       [266.70398085],\n",
       "       [204.00217393],\n",
       "       [243.19080325],\n",
       "       [243.19080325],\n",
       "       [368.59441709],\n",
       "       [368.59441709],\n",
       "       [266.70398085],\n",
       "       [368.59441709],\n",
       "       [368.59441709],\n",
       "       [180.48899634],\n",
       "       [294.13602137],\n",
       "       [333.3246507 ],\n",
       "       [360.75669122],\n",
       "       [313.73033603],\n",
       "       [266.70398085],\n",
       "       [294.13602137],\n",
       "       [333.3246507 ],\n",
       "       [333.3246507 ],\n",
       "       [196.16444807],\n",
       "       [196.16444807],\n",
       "       [180.48899634],\n",
       "       [180.48899634],\n",
       "       [172.65127047],\n",
       "       [333.3246507 ],\n",
       "       [266.70398085],\n",
       "       [180.48899634],\n",
       "       [219.67762566],\n",
       "       [219.67762566],\n",
       "       [266.70398085],\n",
       "       [266.70398085],\n",
       "       [266.70398085],\n",
       "       [376.43214295],\n",
       "       [349.00010242],\n",
       "       [266.70398085],\n",
       "       [266.70398085],\n",
       "       [180.48899634],\n",
       "       [180.48899634],\n",
       "       [180.48899634],\n",
       "       [305.89261017],\n",
       "       [337.24351363],\n",
       "       [337.24351363],\n",
       "       [204.00217393],\n",
       "       [337.24351363],\n",
       "       [262.78511791],\n",
       "       [321.5680619 ],\n",
       "       [270.62284378],\n",
       "       [321.5680619 ],\n",
       "       [188.3267222 ],\n",
       "       [262.78511791],\n",
       "       [204.00217393],\n",
       "       [188.3267222 ],\n",
       "       [204.00217393],\n",
       "       [204.00217393],\n",
       "       [321.5680619 ],\n",
       "       [262.78511791],\n",
       "       [262.78511791],\n",
       "       [262.78511791],\n",
       "       [223.59648859],\n",
       "       [333.3246507 ],\n",
       "       [313.73033603],\n",
       "       [313.73033603],\n",
       "       [266.70398085],\n",
       "       [368.59441709],\n",
       "       [333.3246507 ],\n",
       "       [219.67762566],\n",
       "       [219.67762566],\n",
       "       [219.67762566],\n",
       "       [204.00217393],\n",
       "       [262.78511791],\n",
       "       [262.78511791],\n",
       "       [262.78511791],\n",
       "       [188.3267222 ],\n",
       "       [204.00217393],\n",
       "       [274.54170671],\n",
       "       [188.3267222 ],\n",
       "       [270.62284378],\n",
       "       [270.62284378],\n",
       "       [270.62284378],\n",
       "       [345.08123949],\n",
       "       [321.5680619 ],\n",
       "       [321.5680619 ],\n",
       "       [321.5680619 ],\n",
       "       [321.5680619 ],\n",
       "       [321.5680619 ],\n",
       "       [251.02852912],\n",
       "       [219.67762566],\n",
       "       [219.67762566],\n",
       "       [376.43214295],\n",
       "       [204.00217393],\n",
       "       [219.67762566],\n",
       "       [196.16444807],\n",
       "       [204.00217393],\n",
       "       [188.3267222 ],\n",
       "       [204.00217393],\n",
       "       [254.94739205],\n",
       "       [204.00217393],\n",
       "       [219.67762566],\n",
       "       [243.19080325],\n",
       "       [321.5680619 ],\n",
       "       [196.16444807],\n",
       "       [262.78511791],\n",
       "       [262.78511791],\n",
       "       [262.78511791],\n",
       "       [305.89261017],\n",
       "       [305.89261017],\n",
       "       [262.78511791],\n",
       "       [262.78511791],\n",
       "       [270.62284378],\n",
       "       [243.19080325],\n",
       "       [204.00217393],\n",
       "       [204.00217393],\n",
       "       [223.59648859],\n",
       "       [196.16444807],\n",
       "       [262.78511791],\n",
       "       [204.00217393],\n",
       "       [204.00217393],\n",
       "       [309.8114731 ],\n",
       "       [262.78511791],\n",
       "       [341.16237656],\n",
       "       [243.19080325],\n",
       "       [262.78511791],\n",
       "       [262.78511791],\n",
       "       [368.59441709],\n",
       "       [368.59441709],\n",
       "       [188.3267222 ],\n",
       "       [188.3267222 ],\n",
       "       [188.3267222 ],\n",
       "       [188.3267222 ],\n",
       "       [188.3267222 ],\n",
       "       [204.00217393],\n",
       "       [172.65127047],\n",
       "       [270.62284378],\n",
       "       [223.59648859],\n",
       "       [204.00217393],\n",
       "       [196.16444807],\n",
       "       [196.16444807],\n",
       "       [188.3267222 ],\n",
       "       [282.37943258],\n",
       "       [258.86625498],\n",
       "       [258.86625498],\n",
       "       [243.19080325],\n",
       "       [266.70398085],\n",
       "       [243.19080325],\n",
       "       [349.00010242],\n",
       "       [388.18873175],\n",
       "       [204.00217393],\n",
       "       [223.59648859],\n",
       "       [219.67762566],\n",
       "       [454.80940159],\n",
       "       [204.00217393],\n",
       "       [223.59648859],\n",
       "       [204.00217393],\n",
       "       [204.00217393],\n",
       "       [223.59648859],\n",
       "       [266.70398085],\n",
       "       [282.37943258],\n",
       "       [196.16444807],\n",
       "       [196.16444807],\n",
       "       [196.16444807],\n",
       "       [262.78511791],\n",
       "       [282.37943258],\n",
       "       [231.43421446],\n",
       "       [204.00217393],\n",
       "       [204.00217393],\n",
       "       [196.16444807],\n",
       "       [196.16444807],\n",
       "       [266.70398085],\n",
       "       [223.59648859],\n",
       "       [243.19080325]])"
      ]
     },
     "execution_count": 35,
     "metadata": {},
     "output_type": "execute_result"
    }
   ],
   "source": [
    "predict_y = regr.predict(test_x)\n",
    "predict_y"
   ]
  },
  {
   "cell_type": "code",
   "execution_count": 40,
   "id": "5ed94699",
   "metadata": {},
   "outputs": [
    {
     "name": "stdout",
     "output_type": "stream",
     "text": [
      "Mean Absolute Error:    23.97352074300856\n",
      "Mean Squared Error:     1103.3011406314042\n",
      "R2 Score:     0.7363586709932466\n"
     ]
    }
   ],
   "source": [
    "print('Mean Absolute Error:   ', np.mean(np.absolute(test_y - predict_y)))\n",
    "print('Mean Squared Error:    ', np.mean((test_y - predict_y)**2))\n",
    "print('R2 Score:    ',r2_score(test_y, predict_y))"
   ]
  },
  {
   "cell_type": "markdown",
   "id": "3850b8f7",
   "metadata": {},
   "source": [
    "Higher the r2 score, greater is the fit of the line. So, we can say that our model predicts the co2 emission for the engine size quite well."
   ]
  },
  {
   "cell_type": "markdown",
   "id": "f4185029",
   "metadata": {},
   "source": [
    "Now, let's train the model for the fuel consumption in city and the co2 emission."
   ]
  },
  {
   "cell_type": "code",
   "execution_count": 47,
   "id": "8fa6323b",
   "metadata": {},
   "outputs": [
    {
     "name": "stdout",
     "output_type": "stream",
     "text": [
      "Coefficient of the Linear regression line is:   [[13.70633573]]\n",
      "Intercept of the Linear regression line is:   [74.08271228]\n"
     ]
    }
   ],
   "source": [
    "regr1 = LinearRegression()\n",
    "train_x = np.asanyarray(train[['FUELCONSUMPTION_CITY']])\n",
    "train_y = np.asanyarray(train[['CO2EMISSIONS']])\n",
    "regr1.fit(train_x, train_y)\n",
    "print('Coefficient of the Linear regression line is:  ', regr1.coef_)\n",
    "print('Intercept of the Linear regression line is:  ',regr1.intercept_)"
   ]
  },
  {
   "cell_type": "code",
   "execution_count": 52,
   "id": "5e783202",
   "metadata": {
    "scrolled": true
   },
   "outputs": [
    {
     "data": {
      "image/png": "[encoded data removed]",
      "text/plain": [
       "<Figure size 432x288 with 1 Axes>"
      ]
     },
     "metadata": {
      "needs_background": "light"
     },
     "output_type": "display_data"
    }
   ],
   "source": [
    "plt.scatter(train_x, train_y, color='yellow')\n",
    "yhat = regr1.intercept_ + regr1.coef_*train_x\n",
    "plt.plot(train_x, yhat, color = 'black')\n",
    "plt.xlabel('Fuel consumption in city')\n",
    "plt.ylabel('CO2 Emission')\n",
    "plt.show();"
   ]
  },
  {
   "cell_type": "code",
   "execution_count": 53,
   "id": "635118b0",
   "metadata": {},
   "outputs": [
    {
     "name": "stdout",
     "output_type": "stream",
     "text": [
      "Mean Absolute Error:    19.78627295995464\n",
      "Mean Squared Error:     780.9077179651919\n",
      "R2 Score:     0.8031034024696516\n"
     ]
    }
   ],
   "source": [
    "print('Mean Absolute Error:   ', np.mean(np.absolute(train_y - yhat)))\n",
    "print('Mean Squared Error:    ', np.mean((train_y - yhat)**2))\n",
    "print('R2 Score:    ',r2_score(train_y, yhat))"
   ]
  },
  {
   "cell_type": "markdown",
   "id": "a5a8e481",
   "metadata": {},
   "source": [
    "So, we can see that the model is giving a good prediction for the training dataset. Now let's look for the testing dataset."
   ]
  },
  {
   "cell_type": "code",
   "execution_count": 54,
   "id": "51476827",
   "metadata": {},
   "outputs": [
    {
     "data": {
      "text/plain": [
       "array([[320.79675548],\n",
       "       [322.16738905],\n",
       "       [322.16738905],\n",
       "       [209.77543604],\n",
       "       [222.1111382 ],\n",
       "       [231.70557321],\n",
       "       [231.70557321],\n",
       "       [222.1111382 ],\n",
       "       [259.11824468],\n",
       "       [275.56584756],\n",
       "       [238.55874108],\n",
       "       [315.31422119],\n",
       "       [282.41901543],\n",
       "       [255.00634396],\n",
       "       [268.71267969],\n",
       "       [285.16028257],\n",
       "       [216.62860391],\n",
       "       [231.70557321],\n",
       "       [231.70557321],\n",
       "       [213.88733676],\n",
       "       [178.25086385],\n",
       "       [219.36987105],\n",
       "       [237.18810751],\n",
       "       [230.33493964],\n",
       "       [234.44684036],\n",
       "       [213.88733676],\n",
       "       [200.18100103],\n",
       "       [237.18810751],\n",
       "       [245.41190895],\n",
       "       [271.45394684],\n",
       "       [279.67774828],\n",
       "       [330.39119049],\n",
       "       [217.99923748],\n",
       "       [296.12535116],\n",
       "       [296.12535116],\n",
       "       [270.08331327],\n",
       "       [326.27928977],\n",
       "       [239.92937465],\n",
       "       [249.52380967],\n",
       "       [237.18810751],\n",
       "       [248.15317609],\n",
       "       [249.52380967],\n",
       "       [302.97851903],\n",
       "       [393.44033487],\n",
       "       [268.71267969],\n",
       "       [278.30711471],\n",
       "       [261.85951183],\n",
       "       [189.21593244],\n",
       "       [308.46105332],\n",
       "       [420.85300633],\n",
       "       [374.25146484],\n",
       "       [366.0276634 ],\n",
       "       [302.97851903],\n",
       "       [257.74761111],\n",
       "       [278.30711471],\n",
       "       [346.83879337],\n",
       "       [205.66353532],\n",
       "       [205.66353532],\n",
       "       [202.92226817],\n",
       "       [193.32783316],\n",
       "       [178.25086385],\n",
       "       [293.38408401],\n",
       "       [270.08331327],\n",
       "       [211.14606961],\n",
       "       [234.44684036],\n",
       "       [250.89444324],\n",
       "       [245.41190895],\n",
       "       [249.52380967],\n",
       "       [304.3491526 ],\n",
       "       [302.97851903],\n",
       "       [287.90154972],\n",
       "       [337.24435836],\n",
       "       [268.71267969],\n",
       "       [190.58656601],\n",
       "       [178.25086385],\n",
       "       [201.5516346 ],\n",
       "       [316.68485476],\n",
       "       [338.61499193],\n",
       "       [356.43322839],\n",
       "       [227.59367249],\n",
       "       [409.88793775],\n",
       "       [292.01345044],\n",
       "       [376.99273199],\n",
       "       [279.67774828],\n",
       "       [381.10463271],\n",
       "       [190.58656601],\n",
       "       [255.00634396],\n",
       "       [196.06910031],\n",
       "       [202.92226817],\n",
       "       [217.99923748],\n",
       "       [146.72629167],\n",
       "       [285.16028257],\n",
       "       [239.92937465],\n",
       "       [307.09041975],\n",
       "       [326.27928977],\n",
       "       [237.18810751],\n",
       "       [398.92286916],\n",
       "       [363.28639625],\n",
       "       [366.0276634 ],\n",
       "       [345.4681598 ],\n",
       "       [307.09041975],\n",
       "       [293.38408401],\n",
       "       [197.43973388],\n",
       "       [198.81036745],\n",
       "       [212.51670319],\n",
       "       [138.50249023],\n",
       "       [245.41190895],\n",
       "       [242.6706418 ],\n",
       "       [256.37697753],\n",
       "       [193.32783316],\n",
       "       [208.40480247],\n",
       "       [252.26507681],\n",
       "       [209.77543604],\n",
       "       [260.48887825],\n",
       "       [259.11824468],\n",
       "       [249.52380967],\n",
       "       [279.67774828],\n",
       "       [356.43322839],\n",
       "       [290.64281687],\n",
       "       [281.04838185],\n",
       "       [292.01345044],\n",
       "       [287.90154972],\n",
       "       [245.41190895],\n",
       "       [215.25797033],\n",
       "       [230.33493964],\n",
       "       [327.64992335],\n",
       "       [213.88733676],\n",
       "       [215.25797033],\n",
       "       [201.5516346 ],\n",
       "       [208.40480247],\n",
       "       [190.58656601],\n",
       "       [217.99923748],\n",
       "       [250.89444324],\n",
       "       [207.03416889],\n",
       "       [230.33493964],\n",
       "       [267.34204612],\n",
       "       [320.79675548],\n",
       "       [149.46755882],\n",
       "       [239.92937465],\n",
       "       [179.62149743],\n",
       "       [241.30000823],\n",
       "       [281.04838185],\n",
       "       [281.04838185],\n",
       "       [248.15317609],\n",
       "       [182.36276457],\n",
       "       [253.63571039],\n",
       "       [292.01345044],\n",
       "       [197.43973388],\n",
       "       [183.73339815],\n",
       "       [186.47466529],\n",
       "       [223.48177177],\n",
       "       [237.18810751],\n",
       "       [198.81036745],\n",
       "       [215.25797033],\n",
       "       [256.37697753],\n",
       "       [237.18810751],\n",
       "       [339.98562551],\n",
       "       [257.74761111],\n",
       "       [257.74761111],\n",
       "       [318.05548833],\n",
       "       [323.53802263],\n",
       "       [323.53802263],\n",
       "       [193.32783316],\n",
       "       [202.92226817],\n",
       "       [201.5516346 ],\n",
       "       [201.5516346 ],\n",
       "       [198.81036745],\n",
       "       [205.66353532],\n",
       "       [161.80326098],\n",
       "       [246.78254252],\n",
       "       [241.30000823],\n",
       "       [211.14606961],\n",
       "       [180.992131  ],\n",
       "       [193.32783316],\n",
       "       [191.95719959],\n",
       "       [282.41901543],\n",
       "       [245.41190895],\n",
       "       [246.78254252],\n",
       "       [241.30000823],\n",
       "       [253.63571039],\n",
       "       [261.85951183],\n",
       "       [315.31422119],\n",
       "       [357.80386196],\n",
       "       [223.48177177],\n",
       "       [213.88733676],\n",
       "       [223.48177177],\n",
       "       [348.20942695],\n",
       "       [213.88733676],\n",
       "       [205.66353532],\n",
       "       [193.32783316],\n",
       "       [205.66353532],\n",
       "       [246.78254252],\n",
       "       [256.37697753],\n",
       "       [270.08331327],\n",
       "       [187.84529887],\n",
       "       [180.992131  ],\n",
       "       [138.50249023],\n",
       "       [250.89444324],\n",
       "       [283.789649  ],\n",
       "       [230.33493964],\n",
       "       [222.1111382 ],\n",
       "       [182.36276457],\n",
       "       [202.92226817],\n",
       "       [209.77543604],\n",
       "       [268.71267969],\n",
       "       [233.07620679],\n",
       "       [255.00634396]])"
      ]
     },
     "execution_count": 54,
     "metadata": {},
     "output_type": "execute_result"
    }
   ],
   "source": [
    "test_x = np.asanyarray(test[['FUELCONSUMPTION_CITY']])\n",
    "test_y = np.asanyarray(test[['CO2EMISSIONS']])\n",
    "\n",
    "predict_y = regr1.predict(test_x)\n",
    "predict_y"
   ]
  },
  {
   "cell_type": "code",
   "execution_count": 55,
   "id": "978329e6",
   "metadata": {},
   "outputs": [
    {
     "name": "stdout",
     "output_type": "stream",
     "text": [
      "Mean Absolute Error:    19.083265869052166\n",
      "Mean Squared Error:     760.6680591987639\n",
      "R2 Score:     0.8182331816086208\n"
     ]
    }
   ],
   "source": [
    "print('Mean Absolute Error:   ', np.mean(np.absolute(test_y - predict_y)))\n",
    "print('Mean Squared Error:    ', np.mean((test_y - predict_y)**2))\n",
    "print('R2 Score:    ',r2_score(test_y, predict_y))"
   ]
  },
  {
   "cell_type": "markdown",
   "id": "92cdcd66",
   "metadata": {},
   "source": [
    "So, the model is giving a good r2 score for the testing dataset as well. Let's look into the plot line visually."
   ]
  },
  {
   "cell_type": "code",
   "execution_count": 57,
   "id": "7ad5092f",
   "metadata": {},
   "outputs": [
    {
     "data": {
      "image/png": "[encoded data removed]",
      "text/plain": [
       "<Figure size 432x288 with 1 Axes>"
      ]
     },
     "metadata": {
      "needs_background": "light"
     },
     "output_type": "display_data"
    }
   ],
   "source": [
    "plt.scatter(test_x, test_y, color='yellow')\n",
    "plt.plot(test_x, predict_y, color='red')\n",
    "plt.xlabel('Fuel consumption in city')\n",
    "plt.ylabel('CO2 Emission')\n",
    "plt.show();"
   ]
  },
  {
   "cell_type": "markdown",
   "id": "e2df1ae2",
   "metadata": {},
   "source": [
    "r2 score using engine size is approx 0.74 <br>\n",
    "r2 score using fuel consumption is approx 0.82 <br>\n",
    "So, using fuel consumption to predict the co2 emission will be a better choice than engine size."
   ]
  },
  {
   "cell_type": "markdown",
   "id": "377f0480",
   "metadata": {},
   "source": [
    "The same technique can be used using different features to see which feature provides better accuracy in predicting out of sample data."
   ]
  }
 ],
 "metadata": {
  "kernelspec": {
   "display_name": "Python 3",
   "language": "python",
   "name": "python3"
  },
  "language_info": {
   "codemirror_mode": {
    "name": "ipython",
    "version": 3
   },
   "file_extension": ".py",
   "mimetype": "text/x-python",
   "name": "python",
   "nbconvert_exporter": "python",
   "pygments_lexer": "ipython3",
   "version": "3.8.8"
  }
 },
 "nbformat": 4,
 "nbformat_minor": 5
}
