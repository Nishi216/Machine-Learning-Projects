{
 "cells": [
  {
   "cell_type": "markdown",
   "id": "6271508d",
   "metadata": {},
   "source": [
    "### Import all the libraries"
   ]
  },
  {
   "cell_type": "code",
   "execution_count": 1,
   "id": "ad3555fa",
   "metadata": {},
   "outputs": [],
   "source": [
    "import pandas as pd\n",
    "import numpy as np\n",
    "import matplotlib.pyplot as plt\n",
    "%matplotlib inline"
   ]
  },
  {
   "cell_type": "markdown",
   "id": "920e53f5",
   "metadata": {},
   "source": [
    "### Importing the dataset"
   ]
  },
  {
   "cell_type": "code",
   "execution_count": 2,
   "id": "e7531c1f",
   "metadata": {},
   "outputs": [
    {
     "data": {
      "text/html": [
       "<div>\n",
       "<style scoped>\n",
       "    .dataframe tbody tr th:only-of-type {\n",
       "        vertical-align: middle;\n",
       "    }\n",
       "\n",
       "    .dataframe tbody tr th {\n",
       "        vertical-align: top;\n",
       "    }\n",
       "\n",
       "    .dataframe thead th {\n",
       "        text-align: right;\n",
       "    }\n",
       "</style>\n",
       "<table border=\"1\" class=\"dataframe\">\n",
       "  <thead>\n",
       "    <tr style=\"text-align: right;\">\n",
       "      <th></th>\n",
       "      <th>Date</th>\n",
       "      <th>Symbol</th>\n",
       "      <th>Series</th>\n",
       "      <th>Prev Close</th>\n",
       "      <th>Open</th>\n",
       "      <th>High</th>\n",
       "      <th>Low</th>\n",
       "      <th>Last</th>\n",
       "      <th>Close</th>\n",
       "      <th>VWAP</th>\n",
       "      <th>Volume</th>\n",
       "      <th>Turnover</th>\n",
       "      <th>Trades</th>\n",
       "      <th>Deliverable Volume</th>\n",
       "      <th>%Deliverble</th>\n",
       "    </tr>\n",
       "  </thead>\n",
       "  <tbody>\n",
       "    <tr>\n",
       "      <th>0</th>\n",
       "      <td>2004-08-25</td>\n",
       "      <td>TCS</td>\n",
       "      <td>EQ</td>\n",
       "      <td>850.00</td>\n",
       "      <td>1198.7</td>\n",
       "      <td>1198.7</td>\n",
       "      <td>979.00</td>\n",
       "      <td>985.00</td>\n",
       "      <td>987.95</td>\n",
       "      <td>1008.32</td>\n",
       "      <td>17116372</td>\n",
       "      <td>1.725876e+15</td>\n",
       "      <td>NaN</td>\n",
       "      <td>5206360</td>\n",
       "      <td>0.3042</td>\n",
       "    </tr>\n",
       "    <tr>\n",
       "      <th>1</th>\n",
       "      <td>2004-08-26</td>\n",
       "      <td>TCS</td>\n",
       "      <td>EQ</td>\n",
       "      <td>987.95</td>\n",
       "      <td>992.0</td>\n",
       "      <td>997.0</td>\n",
       "      <td>975.30</td>\n",
       "      <td>976.85</td>\n",
       "      <td>979.00</td>\n",
       "      <td>985.65</td>\n",
       "      <td>5055400</td>\n",
       "      <td>4.982865e+14</td>\n",
       "      <td>NaN</td>\n",
       "      <td>1294899</td>\n",
       "      <td>0.2561</td>\n",
       "    </tr>\n",
       "    <tr>\n",
       "      <th>2</th>\n",
       "      <td>2004-08-27</td>\n",
       "      <td>TCS</td>\n",
       "      <td>EQ</td>\n",
       "      <td>979.00</td>\n",
       "      <td>982.4</td>\n",
       "      <td>982.4</td>\n",
       "      <td>958.55</td>\n",
       "      <td>961.20</td>\n",
       "      <td>962.65</td>\n",
       "      <td>969.94</td>\n",
       "      <td>3830750</td>\n",
       "      <td>3.715586e+14</td>\n",
       "      <td>NaN</td>\n",
       "      <td>976527</td>\n",
       "      <td>0.2549</td>\n",
       "    </tr>\n",
       "    <tr>\n",
       "      <th>3</th>\n",
       "      <td>2004-08-30</td>\n",
       "      <td>TCS</td>\n",
       "      <td>EQ</td>\n",
       "      <td>962.65</td>\n",
       "      <td>969.9</td>\n",
       "      <td>990.0</td>\n",
       "      <td>965.00</td>\n",
       "      <td>986.40</td>\n",
       "      <td>986.75</td>\n",
       "      <td>982.65</td>\n",
       "      <td>3058151</td>\n",
       "      <td>3.005106e+14</td>\n",
       "      <td>NaN</td>\n",
       "      <td>701664</td>\n",
       "      <td>0.2294</td>\n",
       "    </tr>\n",
       "    <tr>\n",
       "      <th>4</th>\n",
       "      <td>2004-08-31</td>\n",
       "      <td>TCS</td>\n",
       "      <td>EQ</td>\n",
       "      <td>986.75</td>\n",
       "      <td>986.5</td>\n",
       "      <td>990.0</td>\n",
       "      <td>976.00</td>\n",
       "      <td>987.80</td>\n",
       "      <td>988.10</td>\n",
       "      <td>982.18</td>\n",
       "      <td>2649332</td>\n",
       "      <td>2.602133e+14</td>\n",
       "      <td>NaN</td>\n",
       "      <td>695234</td>\n",
       "      <td>0.2624</td>\n",
       "    </tr>\n",
       "  </tbody>\n",
       "</table>\n",
       "</div>"
      ],
      "text/plain": [
       "         Date Symbol Series  Prev Close    Open    High     Low    Last  \\\n",
       "0  2004-08-25    TCS     EQ      850.00  1198.7  1198.7  979.00  985.00   \n",
       "1  2004-08-26    TCS     EQ      987.95   992.0   997.0  975.30  976.85   \n",
       "2  2004-08-27    TCS     EQ      979.00   982.4   982.4  958.55  961.20   \n",
       "3  2004-08-30    TCS     EQ      962.65   969.9   990.0  965.00  986.40   \n",
       "4  2004-08-31    TCS     EQ      986.75   986.5   990.0  976.00  987.80   \n",
       "\n",
       "    Close     VWAP    Volume      Turnover  Trades  Deliverable Volume  \\\n",
       "0  987.95  1008.32  17116372  1.725876e+15     NaN             5206360   \n",
       "1  979.00   985.65   5055400  4.982865e+14     NaN             1294899   \n",
       "2  962.65   969.94   3830750  3.715586e+14     NaN              976527   \n",
       "3  986.75   982.65   3058151  3.005106e+14     NaN              701664   \n",
       "4  988.10   982.18   2649332  2.602133e+14     NaN              695234   \n",
       "\n",
       "   %Deliverble  \n",
       "0       0.3042  \n",
       "1       0.2561  \n",
       "2       0.2549  \n",
       "3       0.2294  \n",
       "4       0.2624  "
      ]
     },
     "execution_count": 2,
     "metadata": {},
     "output_type": "execute_result"
    }
   ],
   "source": [
    "df = pd.read_csv('TCS.csv')\n",
    "df.head()"
   ]
  },
  {
   "cell_type": "code",
   "execution_count": 3,
   "id": "ac2b1a0f",
   "metadata": {},
   "outputs": [
    {
     "data": {
      "text/plain": [
       "(4139, 15)"
      ]
     },
     "execution_count": 3,
     "metadata": {},
     "output_type": "execute_result"
    }
   ],
   "source": [
    "df.shape"
   ]
  },
  {
   "cell_type": "code",
   "execution_count": 4,
   "id": "fbdc8d21",
   "metadata": {},
   "outputs": [
    {
     "data": {
      "text/html": [
       "<div>\n",
       "<style scoped>\n",
       "    .dataframe tbody tr th:only-of-type {\n",
       "        vertical-align: middle;\n",
       "    }\n",
       "\n",
       "    .dataframe tbody tr th {\n",
       "        vertical-align: top;\n",
       "    }\n",
       "\n",
       "    .dataframe thead th {\n",
       "        text-align: right;\n",
       "    }\n",
       "</style>\n",
       "<table border=\"1\" class=\"dataframe\">\n",
       "  <thead>\n",
       "    <tr style=\"text-align: right;\">\n",
       "      <th></th>\n",
       "      <th>Date</th>\n",
       "      <th>Symbol</th>\n",
       "      <th>Series</th>\n",
       "      <th>Prev Close</th>\n",
       "      <th>Open</th>\n",
       "      <th>High</th>\n",
       "      <th>Low</th>\n",
       "      <th>Last</th>\n",
       "      <th>Close</th>\n",
       "      <th>VWAP</th>\n",
       "      <th>Volume</th>\n",
       "      <th>Turnover</th>\n",
       "      <th>Trades</th>\n",
       "      <th>Deliverable Volume</th>\n",
       "      <th>%Deliverble</th>\n",
       "    </tr>\n",
       "  </thead>\n",
       "  <tbody>\n",
       "    <tr>\n",
       "      <th>4134</th>\n",
       "      <td>2021-04-26</td>\n",
       "      <td>TCS</td>\n",
       "      <td>EQ</td>\n",
       "      <td>3109.50</td>\n",
       "      <td>3102.05</td>\n",
       "      <td>3153.00</td>\n",
       "      <td>3088.05</td>\n",
       "      <td>3100.05</td>\n",
       "      <td>3100.80</td>\n",
       "      <td>3122.35</td>\n",
       "      <td>2490260</td>\n",
       "      <td>7.775465e+14</td>\n",
       "      <td>87012.0</td>\n",
       "      <td>1345353</td>\n",
       "      <td>0.5402</td>\n",
       "    </tr>\n",
       "    <tr>\n",
       "      <th>4135</th>\n",
       "      <td>2021-04-27</td>\n",
       "      <td>TCS</td>\n",
       "      <td>EQ</td>\n",
       "      <td>3100.80</td>\n",
       "      <td>3106.00</td>\n",
       "      <td>3136.10</td>\n",
       "      <td>3103.00</td>\n",
       "      <td>3132.75</td>\n",
       "      <td>3132.00</td>\n",
       "      <td>3122.18</td>\n",
       "      <td>1471417</td>\n",
       "      <td>4.594036e+14</td>\n",
       "      <td>97077.0</td>\n",
       "      <td>849767</td>\n",
       "      <td>0.5775</td>\n",
       "    </tr>\n",
       "    <tr>\n",
       "      <th>4136</th>\n",
       "      <td>2021-04-28</td>\n",
       "      <td>TCS</td>\n",
       "      <td>EQ</td>\n",
       "      <td>3132.00</td>\n",
       "      <td>3149.95</td>\n",
       "      <td>3151.00</td>\n",
       "      <td>3112.00</td>\n",
       "      <td>3123.00</td>\n",
       "      <td>3124.10</td>\n",
       "      <td>3125.72</td>\n",
       "      <td>1639037</td>\n",
       "      <td>5.123176e+14</td>\n",
       "      <td>76017.0</td>\n",
       "      <td>847762</td>\n",
       "      <td>0.5172</td>\n",
       "    </tr>\n",
       "    <tr>\n",
       "      <th>4137</th>\n",
       "      <td>2021-04-29</td>\n",
       "      <td>TCS</td>\n",
       "      <td>EQ</td>\n",
       "      <td>3124.10</td>\n",
       "      <td>3145.60</td>\n",
       "      <td>3157.35</td>\n",
       "      <td>3105.50</td>\n",
       "      <td>3114.45</td>\n",
       "      <td>3115.25</td>\n",
       "      <td>3130.83</td>\n",
       "      <td>1621395</td>\n",
       "      <td>5.076306e+14</td>\n",
       "      <td>98275.0</td>\n",
       "      <td>837567</td>\n",
       "      <td>0.5166</td>\n",
       "    </tr>\n",
       "    <tr>\n",
       "      <th>4138</th>\n",
       "      <td>2021-04-30</td>\n",
       "      <td>TCS</td>\n",
       "      <td>EQ</td>\n",
       "      <td>3115.25</td>\n",
       "      <td>3099.00</td>\n",
       "      <td>3132.05</td>\n",
       "      <td>3020.00</td>\n",
       "      <td>3040.00</td>\n",
       "      <td>3035.65</td>\n",
       "      <td>3063.19</td>\n",
       "      <td>3072305</td>\n",
       "      <td>9.411057e+14</td>\n",
       "      <td>157829.0</td>\n",
       "      <td>1942473</td>\n",
       "      <td>0.6323</td>\n",
       "    </tr>\n",
       "  </tbody>\n",
       "</table>\n",
       "</div>"
      ],
      "text/plain": [
       "            Date Symbol Series  Prev Close     Open     High      Low  \\\n",
       "4134  2021-04-26    TCS     EQ     3109.50  3102.05  3153.00  3088.05   \n",
       "4135  2021-04-27    TCS     EQ     3100.80  3106.00  3136.10  3103.00   \n",
       "4136  2021-04-28    TCS     EQ     3132.00  3149.95  3151.00  3112.00   \n",
       "4137  2021-04-29    TCS     EQ     3124.10  3145.60  3157.35  3105.50   \n",
       "4138  2021-04-30    TCS     EQ     3115.25  3099.00  3132.05  3020.00   \n",
       "\n",
       "         Last    Close     VWAP   Volume      Turnover    Trades  \\\n",
       "4134  3100.05  3100.80  3122.35  2490260  7.775465e+14   87012.0   \n",
       "4135  3132.75  3132.00  3122.18  1471417  4.594036e+14   97077.0   \n",
       "4136  3123.00  3124.10  3125.72  1639037  5.123176e+14   76017.0   \n",
       "4137  3114.45  3115.25  3130.83  1621395  5.076306e+14   98275.0   \n",
       "4138  3040.00  3035.65  3063.19  3072305  9.411057e+14  157829.0   \n",
       "\n",
       "      Deliverable Volume  %Deliverble  \n",
       "4134             1345353       0.5402  \n",
       "4135              849767       0.5775  \n",
       "4136              847762       0.5172  \n",
       "4137              837567       0.5166  \n",
       "4138             1942473       0.6323  "
      ]
     },
     "execution_count": 4,
     "metadata": {},
     "output_type": "execute_result"
    }
   ],
   "source": [
    "df.tail()"
   ]
  },
  {
   "cell_type": "markdown",
   "id": "28f3b11c",
   "metadata": {},
   "source": [
    "##### Let's look into the trading of TCS in the year of 2020. So we will filter the data for the year of 2020 only."
   ]
  },
  {
   "cell_type": "code",
   "execution_count": 9,
   "id": "327506f1",
   "metadata": {},
   "outputs": [
    {
     "data": {
      "text/html": [
       "<div>\n",
       "<style scoped>\n",
       "    .dataframe tbody tr th:only-of-type {\n",
       "        vertical-align: middle;\n",
       "    }\n",
       "\n",
       "    .dataframe tbody tr th {\n",
       "        vertical-align: top;\n",
       "    }\n",
       "\n",
       "    .dataframe thead th {\n",
       "        text-align: right;\n",
       "    }\n",
       "</style>\n",
       "<table border=\"1\" class=\"dataframe\">\n",
       "  <thead>\n",
       "    <tr style=\"text-align: right;\">\n",
       "      <th></th>\n",
       "      <th>Date</th>\n",
       "      <th>Symbol</th>\n",
       "      <th>Series</th>\n",
       "      <th>Prev Close</th>\n",
       "      <th>Open</th>\n",
       "      <th>High</th>\n",
       "      <th>Low</th>\n",
       "      <th>Last</th>\n",
       "      <th>Close</th>\n",
       "      <th>VWAP</th>\n",
       "      <th>Volume</th>\n",
       "      <th>Turnover</th>\n",
       "      <th>Trades</th>\n",
       "      <th>Deliverable Volume</th>\n",
       "      <th>%Deliverble</th>\n",
       "    </tr>\n",
       "  </thead>\n",
       "  <tbody>\n",
       "    <tr>\n",
       "      <th>3807</th>\n",
       "      <td>2020-01-01</td>\n",
       "      <td>TCS</td>\n",
       "      <td>EQ</td>\n",
       "      <td>2161.70</td>\n",
       "      <td>2168.00</td>\n",
       "      <td>2183.90</td>\n",
       "      <td>2154.0</td>\n",
       "      <td>2170.00</td>\n",
       "      <td>2167.60</td>\n",
       "      <td>2170.54</td>\n",
       "      <td>1354908</td>\n",
       "      <td>2.940882e+14</td>\n",
       "      <td>44438.0</td>\n",
       "      <td>164490</td>\n",
       "      <td>0.1214</td>\n",
       "    </tr>\n",
       "    <tr>\n",
       "      <th>3808</th>\n",
       "      <td>2020-01-02</td>\n",
       "      <td>TCS</td>\n",
       "      <td>EQ</td>\n",
       "      <td>2167.60</td>\n",
       "      <td>2179.95</td>\n",
       "      <td>2179.95</td>\n",
       "      <td>2149.2</td>\n",
       "      <td>2157.00</td>\n",
       "      <td>2157.65</td>\n",
       "      <td>2158.63</td>\n",
       "      <td>2380752</td>\n",
       "      <td>5.139156e+14</td>\n",
       "      <td>99242.0</td>\n",
       "      <td>1204079</td>\n",
       "      <td>0.5058</td>\n",
       "    </tr>\n",
       "    <tr>\n",
       "      <th>3809</th>\n",
       "      <td>2020-01-03</td>\n",
       "      <td>TCS</td>\n",
       "      <td>EQ</td>\n",
       "      <td>2157.65</td>\n",
       "      <td>2164.00</td>\n",
       "      <td>2223.00</td>\n",
       "      <td>2164.0</td>\n",
       "      <td>2201.00</td>\n",
       "      <td>2200.65</td>\n",
       "      <td>2199.26</td>\n",
       "      <td>4655761</td>\n",
       "      <td>1.023921e+15</td>\n",
       "      <td>123516.0</td>\n",
       "      <td>1833823</td>\n",
       "      <td>0.3939</td>\n",
       "    </tr>\n",
       "    <tr>\n",
       "      <th>3810</th>\n",
       "      <td>2020-01-06</td>\n",
       "      <td>TCS</td>\n",
       "      <td>EQ</td>\n",
       "      <td>2200.65</td>\n",
       "      <td>2205.00</td>\n",
       "      <td>2225.95</td>\n",
       "      <td>2187.9</td>\n",
       "      <td>2201.35</td>\n",
       "      <td>2200.45</td>\n",
       "      <td>2204.89</td>\n",
       "      <td>3023209</td>\n",
       "      <td>6.665855e+14</td>\n",
       "      <td>135360.0</td>\n",
       "      <td>1000021</td>\n",
       "      <td>0.3308</td>\n",
       "    </tr>\n",
       "    <tr>\n",
       "      <th>3811</th>\n",
       "      <td>2020-01-07</td>\n",
       "      <td>TCS</td>\n",
       "      <td>EQ</td>\n",
       "      <td>2200.45</td>\n",
       "      <td>2200.50</td>\n",
       "      <td>2214.65</td>\n",
       "      <td>2183.8</td>\n",
       "      <td>2205.00</td>\n",
       "      <td>2205.85</td>\n",
       "      <td>2203.53</td>\n",
       "      <td>2429317</td>\n",
       "      <td>5.353064e+14</td>\n",
       "      <td>95018.0</td>\n",
       "      <td>966753</td>\n",
       "      <td>0.3980</td>\n",
       "    </tr>\n",
       "    <tr>\n",
       "      <th>...</th>\n",
       "      <td>...</td>\n",
       "      <td>...</td>\n",
       "      <td>...</td>\n",
       "      <td>...</td>\n",
       "      <td>...</td>\n",
       "      <td>...</td>\n",
       "      <td>...</td>\n",
       "      <td>...</td>\n",
       "      <td>...</td>\n",
       "      <td>...</td>\n",
       "      <td>...</td>\n",
       "      <td>...</td>\n",
       "      <td>...</td>\n",
       "      <td>...</td>\n",
       "      <td>...</td>\n",
       "    </tr>\n",
       "    <tr>\n",
       "      <th>4054</th>\n",
       "      <td>2020-12-24</td>\n",
       "      <td>TCS</td>\n",
       "      <td>EQ</td>\n",
       "      <td>2908.75</td>\n",
       "      <td>2909.00</td>\n",
       "      <td>2921.35</td>\n",
       "      <td>2883.2</td>\n",
       "      <td>2908.95</td>\n",
       "      <td>2909.35</td>\n",
       "      <td>2902.86</td>\n",
       "      <td>1807144</td>\n",
       "      <td>5.245887e+14</td>\n",
       "      <td>76405.0</td>\n",
       "      <td>569310</td>\n",
       "      <td>0.3150</td>\n",
       "    </tr>\n",
       "    <tr>\n",
       "      <th>4055</th>\n",
       "      <td>2020-12-28</td>\n",
       "      <td>TCS</td>\n",
       "      <td>EQ</td>\n",
       "      <td>2909.35</td>\n",
       "      <td>2910.00</td>\n",
       "      <td>2949.70</td>\n",
       "      <td>2902.0</td>\n",
       "      <td>2932.10</td>\n",
       "      <td>2929.40</td>\n",
       "      <td>2929.11</td>\n",
       "      <td>2108994</td>\n",
       "      <td>6.177467e+14</td>\n",
       "      <td>106481.0</td>\n",
       "      <td>717415</td>\n",
       "      <td>0.3402</td>\n",
       "    </tr>\n",
       "    <tr>\n",
       "      <th>4056</th>\n",
       "      <td>2020-12-29</td>\n",
       "      <td>TCS</td>\n",
       "      <td>EQ</td>\n",
       "      <td>2929.40</td>\n",
       "      <td>2920.00</td>\n",
       "      <td>2952.00</td>\n",
       "      <td>2920.0</td>\n",
       "      <td>2935.00</td>\n",
       "      <td>2930.50</td>\n",
       "      <td>2937.59</td>\n",
       "      <td>1994151</td>\n",
       "      <td>5.857996e+14</td>\n",
       "      <td>99597.0</td>\n",
       "      <td>926286</td>\n",
       "      <td>0.4645</td>\n",
       "    </tr>\n",
       "    <tr>\n",
       "      <th>4057</th>\n",
       "      <td>2020-12-30</td>\n",
       "      <td>TCS</td>\n",
       "      <td>EQ</td>\n",
       "      <td>2930.50</td>\n",
       "      <td>2934.40</td>\n",
       "      <td>2947.70</td>\n",
       "      <td>2902.0</td>\n",
       "      <td>2910.00</td>\n",
       "      <td>2909.30</td>\n",
       "      <td>2918.00</td>\n",
       "      <td>2637968</td>\n",
       "      <td>7.697596e+14</td>\n",
       "      <td>87612.0</td>\n",
       "      <td>1441442</td>\n",
       "      <td>0.5464</td>\n",
       "    </tr>\n",
       "    <tr>\n",
       "      <th>4058</th>\n",
       "      <td>2020-12-31</td>\n",
       "      <td>TCS</td>\n",
       "      <td>EQ</td>\n",
       "      <td>2909.30</td>\n",
       "      <td>2900.00</td>\n",
       "      <td>2905.00</td>\n",
       "      <td>2845.0</td>\n",
       "      <td>2864.95</td>\n",
       "      <td>2862.75</td>\n",
       "      <td>2874.36</td>\n",
       "      <td>4040956</td>\n",
       "      <td>1.161517e+15</td>\n",
       "      <td>130170.0</td>\n",
       "      <td>2350220</td>\n",
       "      <td>0.5816</td>\n",
       "    </tr>\n",
       "  </tbody>\n",
       "</table>\n",
       "<p>252 rows × 15 columns</p>\n",
       "</div>"
      ],
      "text/plain": [
       "            Date Symbol Series  Prev Close     Open     High     Low     Last  \\\n",
       "3807  2020-01-01    TCS     EQ     2161.70  2168.00  2183.90  2154.0  2170.00   \n",
       "3808  2020-01-02    TCS     EQ     2167.60  2179.95  2179.95  2149.2  2157.00   \n",
       "3809  2020-01-03    TCS     EQ     2157.65  2164.00  2223.00  2164.0  2201.00   \n",
       "3810  2020-01-06    TCS     EQ     2200.65  2205.00  2225.95  2187.9  2201.35   \n",
       "3811  2020-01-07    TCS     EQ     2200.45  2200.50  2214.65  2183.8  2205.00   \n",
       "...          ...    ...    ...         ...      ...      ...     ...      ...   \n",
       "4054  2020-12-24    TCS     EQ     2908.75  2909.00  2921.35  2883.2  2908.95   \n",
       "4055  2020-12-28    TCS     EQ     2909.35  2910.00  2949.70  2902.0  2932.10   \n",
       "4056  2020-12-29    TCS     EQ     2929.40  2920.00  2952.00  2920.0  2935.00   \n",
       "4057  2020-12-30    TCS     EQ     2930.50  2934.40  2947.70  2902.0  2910.00   \n",
       "4058  2020-12-31    TCS     EQ     2909.30  2900.00  2905.00  2845.0  2864.95   \n",
       "\n",
       "        Close     VWAP   Volume      Turnover    Trades  Deliverable Volume  \\\n",
       "3807  2167.60  2170.54  1354908  2.940882e+14   44438.0              164490   \n",
       "3808  2157.65  2158.63  2380752  5.139156e+14   99242.0             1204079   \n",
       "3809  2200.65  2199.26  4655761  1.023921e+15  123516.0             1833823   \n",
       "3810  2200.45  2204.89  3023209  6.665855e+14  135360.0             1000021   \n",
       "3811  2205.85  2203.53  2429317  5.353064e+14   95018.0              966753   \n",
       "...       ...      ...      ...           ...       ...                 ...   \n",
       "4054  2909.35  2902.86  1807144  5.245887e+14   76405.0              569310   \n",
       "4055  2929.40  2929.11  2108994  6.177467e+14  106481.0              717415   \n",
       "4056  2930.50  2937.59  1994151  5.857996e+14   99597.0              926286   \n",
       "4057  2909.30  2918.00  2637968  7.697596e+14   87612.0             1441442   \n",
       "4058  2862.75  2874.36  4040956  1.161517e+15  130170.0             2350220   \n",
       "\n",
       "      %Deliverble  \n",
       "3807       0.1214  \n",
       "3808       0.5058  \n",
       "3809       0.3939  \n",
       "3810       0.3308  \n",
       "3811       0.3980  \n",
       "...           ...  \n",
       "4054       0.3150  \n",
       "4055       0.3402  \n",
       "4056       0.4645  \n",
       "4057       0.5464  \n",
       "4058       0.5816  \n",
       "\n",
       "[252 rows x 15 columns]"
      ]
     },
     "execution_count": 9,
     "metadata": {},
     "output_type": "execute_result"
    }
   ],
   "source": [
    "start_date = '2020-01-01'\n",
    "end_date = '2020-12-31'\n",
    "\n",
    "data = df.loc[(df['Date'] >= start_date)\n",
    "                     & (df['Date'] <= end_date)]\n",
    "data"
   ]
  },
  {
   "cell_type": "markdown",
   "id": "0ac10149",
   "metadata": {},
   "source": [
    "##### Now, we will select only those features that are of our point of interest to get the prediction on Trade."
   ]
  },
  {
   "cell_type": "code",
   "execution_count": 27,
   "id": "69fa747e",
   "metadata": {},
   "outputs": [
    {
     "data": {
      "text/html": [
       "<div>\n",
       "<style scoped>\n",
       "    .dataframe tbody tr th:only-of-type {\n",
       "        vertical-align: middle;\n",
       "    }\n",
       "\n",
       "    .dataframe tbody tr th {\n",
       "        vertical-align: top;\n",
       "    }\n",
       "\n",
       "    .dataframe thead th {\n",
       "        text-align: right;\n",
       "    }\n",
       "</style>\n",
       "<table border=\"1\" class=\"dataframe\">\n",
       "  <thead>\n",
       "    <tr style=\"text-align: right;\">\n",
       "      <th></th>\n",
       "      <th>Date</th>\n",
       "      <th>Open</th>\n",
       "      <th>High</th>\n",
       "      <th>Low</th>\n",
       "      <th>Last</th>\n",
       "      <th>Close</th>\n",
       "      <th>Trades</th>\n",
       "    </tr>\n",
       "  </thead>\n",
       "  <tbody>\n",
       "    <tr>\n",
       "      <th>3807</th>\n",
       "      <td>2020-01-01</td>\n",
       "      <td>2168.00</td>\n",
       "      <td>2183.90</td>\n",
       "      <td>2154.0</td>\n",
       "      <td>2170.00</td>\n",
       "      <td>2167.60</td>\n",
       "      <td>44438.0</td>\n",
       "    </tr>\n",
       "    <tr>\n",
       "      <th>3808</th>\n",
       "      <td>2020-01-02</td>\n",
       "      <td>2179.95</td>\n",
       "      <td>2179.95</td>\n",
       "      <td>2149.2</td>\n",
       "      <td>2157.00</td>\n",
       "      <td>2157.65</td>\n",
       "      <td>99242.0</td>\n",
       "    </tr>\n",
       "    <tr>\n",
       "      <th>3809</th>\n",
       "      <td>2020-01-03</td>\n",
       "      <td>2164.00</td>\n",
       "      <td>2223.00</td>\n",
       "      <td>2164.0</td>\n",
       "      <td>2201.00</td>\n",
       "      <td>2200.65</td>\n",
       "      <td>123516.0</td>\n",
       "    </tr>\n",
       "    <tr>\n",
       "      <th>3810</th>\n",
       "      <td>2020-01-06</td>\n",
       "      <td>2205.00</td>\n",
       "      <td>2225.95</td>\n",
       "      <td>2187.9</td>\n",
       "      <td>2201.35</td>\n",
       "      <td>2200.45</td>\n",
       "      <td>135360.0</td>\n",
       "    </tr>\n",
       "    <tr>\n",
       "      <th>3811</th>\n",
       "      <td>2020-01-07</td>\n",
       "      <td>2200.50</td>\n",
       "      <td>2214.65</td>\n",
       "      <td>2183.8</td>\n",
       "      <td>2205.00</td>\n",
       "      <td>2205.85</td>\n",
       "      <td>95018.0</td>\n",
       "    </tr>\n",
       "    <tr>\n",
       "      <th>...</th>\n",
       "      <td>...</td>\n",
       "      <td>...</td>\n",
       "      <td>...</td>\n",
       "      <td>...</td>\n",
       "      <td>...</td>\n",
       "      <td>...</td>\n",
       "      <td>...</td>\n",
       "    </tr>\n",
       "    <tr>\n",
       "      <th>4054</th>\n",
       "      <td>2020-12-24</td>\n",
       "      <td>2909.00</td>\n",
       "      <td>2921.35</td>\n",
       "      <td>2883.2</td>\n",
       "      <td>2908.95</td>\n",
       "      <td>2909.35</td>\n",
       "      <td>76405.0</td>\n",
       "    </tr>\n",
       "    <tr>\n",
       "      <th>4055</th>\n",
       "      <td>2020-12-28</td>\n",
       "      <td>2910.00</td>\n",
       "      <td>2949.70</td>\n",
       "      <td>2902.0</td>\n",
       "      <td>2932.10</td>\n",
       "      <td>2929.40</td>\n",
       "      <td>106481.0</td>\n",
       "    </tr>\n",
       "    <tr>\n",
       "      <th>4056</th>\n",
       "      <td>2020-12-29</td>\n",
       "      <td>2920.00</td>\n",
       "      <td>2952.00</td>\n",
       "      <td>2920.0</td>\n",
       "      <td>2935.00</td>\n",
       "      <td>2930.50</td>\n",
       "      <td>99597.0</td>\n",
       "    </tr>\n",
       "    <tr>\n",
       "      <th>4057</th>\n",
       "      <td>2020-12-30</td>\n",
       "      <td>2934.40</td>\n",
       "      <td>2947.70</td>\n",
       "      <td>2902.0</td>\n",
       "      <td>2910.00</td>\n",
       "      <td>2909.30</td>\n",
       "      <td>87612.0</td>\n",
       "    </tr>\n",
       "    <tr>\n",
       "      <th>4058</th>\n",
       "      <td>2020-12-31</td>\n",
       "      <td>2900.00</td>\n",
       "      <td>2905.00</td>\n",
       "      <td>2845.0</td>\n",
       "      <td>2864.95</td>\n",
       "      <td>2862.75</td>\n",
       "      <td>130170.0</td>\n",
       "    </tr>\n",
       "  </tbody>\n",
       "</table>\n",
       "<p>252 rows × 7 columns</p>\n",
       "</div>"
      ],
      "text/plain": [
       "            Date     Open     High     Low     Last    Close    Trades\n",
       "3807  2020-01-01  2168.00  2183.90  2154.0  2170.00  2167.60   44438.0\n",
       "3808  2020-01-02  2179.95  2179.95  2149.2  2157.00  2157.65   99242.0\n",
       "3809  2020-01-03  2164.00  2223.00  2164.0  2201.00  2200.65  123516.0\n",
       "3810  2020-01-06  2205.00  2225.95  2187.9  2201.35  2200.45  135360.0\n",
       "3811  2020-01-07  2200.50  2214.65  2183.8  2205.00  2205.85   95018.0\n",
       "...          ...      ...      ...     ...      ...      ...       ...\n",
       "4054  2020-12-24  2909.00  2921.35  2883.2  2908.95  2909.35   76405.0\n",
       "4055  2020-12-28  2910.00  2949.70  2902.0  2932.10  2929.40  106481.0\n",
       "4056  2020-12-29  2920.00  2952.00  2920.0  2935.00  2930.50   99597.0\n",
       "4057  2020-12-30  2934.40  2947.70  2902.0  2910.00  2909.30   87612.0\n",
       "4058  2020-12-31  2900.00  2905.00  2845.0  2864.95  2862.75  130170.0\n",
       "\n",
       "[252 rows x 7 columns]"
      ]
     },
     "execution_count": 27,
     "metadata": {},
     "output_type": "execute_result"
    }
   ],
   "source": [
    "data2020 = data[['Date','Open', 'High', 'Low', 'Last', 'Close', 'Trades']]\n",
    "data2020"
   ]
  },
  {
   "cell_type": "markdown",
   "id": "375bb3a6",
   "metadata": {},
   "source": [
    "##### Let's look into the variation of data with the Open and Close feature with the Trades"
   ]
  },
  {
   "cell_type": "code",
   "execution_count": 28,
   "id": "3006a0a3",
   "metadata": {},
   "outputs": [
    {
     "data": {
      "text/plain": [
       "[]"
      ]
     },
     "execution_count": 28,
     "metadata": {},
     "output_type": "execute_result"
    }
   ],
   "source": [
    "#First let's see if there are any null values in the Open Close or Trades series\n",
    "val = [i for i in data2020['Open'].isnull() if i==True]\n",
    "val"
   ]
  },
  {
   "cell_type": "code",
   "execution_count": 29,
   "id": "bf6a7985",
   "metadata": {},
   "outputs": [
    {
     "data": {
      "text/plain": [
       "[]"
      ]
     },
     "execution_count": 29,
     "metadata": {},
     "output_type": "execute_result"
    }
   ],
   "source": [
    "val = [i for i in data2020['Close'].isnull() if i==True]\n",
    "val"
   ]
  },
  {
   "cell_type": "code",
   "execution_count": 30,
   "id": "9b2cf2f3",
   "metadata": {},
   "outputs": [
    {
     "data": {
      "text/plain": [
       "[]"
      ]
     },
     "execution_count": 30,
     "metadata": {},
     "output_type": "execute_result"
    }
   ],
   "source": [
    "val = [i for i in data2020['Trades'].isnull() if i==True]\n",
    "val"
   ]
  },
  {
   "cell_type": "code",
   "execution_count": 31,
   "id": "4ca6dcdc",
   "metadata": {},
   "outputs": [
    {
     "data": {
      "image/png": "[encoded data removed]",
      "text/plain": [
       "<Figure size 432x288 with 1 Axes>"
      ]
     },
     "metadata": {
      "needs_background": "light"
     },
     "output_type": "display_data"
    }
   ],
   "source": [
    "plt.scatter(data2020.Open, data2020.Trades, color= 'green')\n",
    "plt.xlabel('Open value')\n",
    "plt.ylabel('Trades Value')\n",
    "plt.title('Open vs Trade')\n",
    "plt.show();"
   ]
  },
  {
   "cell_type": "code",
   "execution_count": 32,
   "id": "93047961",
   "metadata": {},
   "outputs": [
    {
     "data": {
      "image/png": "[encoded data removed]",
      "text/plain": [
       "<Figure size 432x288 with 1 Axes>"
      ]
     },
     "metadata": {
      "needs_background": "light"
     },
     "output_type": "display_data"
    }
   ],
   "source": [
    "plt.scatter(data2020.Close, data2020.Trades, color= 'green')\n",
    "plt.xlabel('Close value')\n",
    "plt.ylabel('Trades Value')\n",
    "plt.title('Close vs Trade')\n",
    "plt.show();"
   ]
  },
  {
   "cell_type": "markdown",
   "id": "70b656b2",
   "metadata": {},
   "source": [
    "##### Let's look into the variation of data with the High and Low  feature with the Trades"
   ]
  },
  {
   "cell_type": "code",
   "execution_count": 33,
   "id": "97e96294",
   "metadata": {},
   "outputs": [
    {
     "data": {
      "image/png": "[encoded data removed]",
      "text/plain": [
       "<Figure size 432x288 with 1 Axes>"
      ]
     },
     "metadata": {
      "needs_background": "light"
     },
     "output_type": "display_data"
    }
   ],
   "source": [
    "plt.scatter(data2020.High, data2020.Trades, color= 'green')\n",
    "plt.xlabel('High value')\n",
    "plt.ylabel('Trades Value')\n",
    "plt.title('High vs Trade')\n",
    "plt.show();"
   ]
  },
  {
   "cell_type": "code",
   "execution_count": 34,
   "id": "98909352",
   "metadata": {},
   "outputs": [
    {
     "data": {
      "image/png": "[encoded data removed]",
      "text/plain": [
       "<Figure size 432x288 with 1 Axes>"
      ]
     },
     "metadata": {
      "needs_background": "light"
     },
     "output_type": "display_data"
    }
   ],
   "source": [
    "plt.scatter(data2020.Low, data2020.Trades, color= 'green')\n",
    "plt.xlabel('Low value')\n",
    "plt.ylabel('Trades Value')\n",
    "plt.title('Low vs Trade')\n",
    "plt.show();"
   ]
  },
  {
   "cell_type": "markdown",
   "id": "3eda5ae1",
   "metadata": {},
   "source": [
    "##### Now let's see at which month the value of trade was highest"
   ]
  },
  {
   "cell_type": "code",
   "execution_count": 66,
   "id": "da69d3b3",
   "metadata": {},
   "outputs": [
    {
     "data": {
      "text/html": [
       "<div>\n",
       "<style scoped>\n",
       "    .dataframe tbody tr th:only-of-type {\n",
       "        vertical-align: middle;\n",
       "    }\n",
       "\n",
       "    .dataframe tbody tr th {\n",
       "        vertical-align: top;\n",
       "    }\n",
       "\n",
       "    .dataframe thead th {\n",
       "        text-align: right;\n",
       "    }\n",
       "</style>\n",
       "<table border=\"1\" class=\"dataframe\">\n",
       "  <thead>\n",
       "    <tr style=\"text-align: right;\">\n",
       "      <th></th>\n",
       "      <th>Date</th>\n",
       "      <th>Trades</th>\n",
       "    </tr>\n",
       "  </thead>\n",
       "  <tbody>\n",
       "    <tr>\n",
       "      <th>0</th>\n",
       "      <td>2020-01</td>\n",
       "      <td>111447.565217</td>\n",
       "    </tr>\n",
       "    <tr>\n",
       "      <th>1</th>\n",
       "      <td>2020-02</td>\n",
       "      <td>115368.000000</td>\n",
       "    </tr>\n",
       "    <tr>\n",
       "      <th>2</th>\n",
       "      <td>2020-03</td>\n",
       "      <td>229286.761905</td>\n",
       "    </tr>\n",
       "    <tr>\n",
       "      <th>3</th>\n",
       "      <td>2020-04</td>\n",
       "      <td>204174.944444</td>\n",
       "    </tr>\n",
       "    <tr>\n",
       "      <th>4</th>\n",
       "      <td>2020-05</td>\n",
       "      <td>146416.789474</td>\n",
       "    </tr>\n",
       "    <tr>\n",
       "      <th>5</th>\n",
       "      <td>2020-06</td>\n",
       "      <td>130113.727273</td>\n",
       "    </tr>\n",
       "    <tr>\n",
       "      <th>6</th>\n",
       "      <td>2020-07</td>\n",
       "      <td>168969.521739</td>\n",
       "    </tr>\n",
       "    <tr>\n",
       "      <th>7</th>\n",
       "      <td>2020-08</td>\n",
       "      <td>106161.000000</td>\n",
       "    </tr>\n",
       "    <tr>\n",
       "      <th>8</th>\n",
       "      <td>2020-09</td>\n",
       "      <td>182609.636364</td>\n",
       "    </tr>\n",
       "    <tr>\n",
       "      <th>9</th>\n",
       "      <td>2020-10</td>\n",
       "      <td>200509.619048</td>\n",
       "    </tr>\n",
       "    <tr>\n",
       "      <th>10</th>\n",
       "      <td>2020-11</td>\n",
       "      <td>140181.950000</td>\n",
       "    </tr>\n",
       "    <tr>\n",
       "      <th>11</th>\n",
       "      <td>2020-12</td>\n",
       "      <td>128797.772727</td>\n",
       "    </tr>\n",
       "  </tbody>\n",
       "</table>\n",
       "</div>"
      ],
      "text/plain": [
       "       Date         Trades\n",
       "0   2020-01  111447.565217\n",
       "1   2020-02  115368.000000\n",
       "2   2020-03  229286.761905\n",
       "3   2020-04  204174.944444\n",
       "4   2020-05  146416.789474\n",
       "5   2020-06  130113.727273\n",
       "6   2020-07  168969.521739\n",
       "7   2020-08  106161.000000\n",
       "8   2020-09  182609.636364\n",
       "9   2020-10  200509.619048\n",
       "10  2020-11  140181.950000\n",
       "11  2020-12  128797.772727"
      ]
     },
     "execution_count": 66,
     "metadata": {},
     "output_type": "execute_result"
    }
   ],
   "source": [
    "months = data2020.groupby(pd.PeriodIndex(data2020['Date'], freq=\"M\"))[['Trades']].mean()\n",
    "months.index = months.index.to_series().astype(str)\n",
    "months =  months.reset_index()\n",
    "months"
   ]
  },
  {
   "cell_type": "code",
   "execution_count": 67,
   "id": "11d37984",
   "metadata": {},
   "outputs": [
    {
     "data": {
      "text/html": [
       "<div>\n",
       "<style scoped>\n",
       "    .dataframe tbody tr th:only-of-type {\n",
       "        vertical-align: middle;\n",
       "    }\n",
       "\n",
       "    .dataframe tbody tr th {\n",
       "        vertical-align: top;\n",
       "    }\n",
       "\n",
       "    .dataframe thead th {\n",
       "        text-align: right;\n",
       "    }\n",
       "</style>\n",
       "<table border=\"1\" class=\"dataframe\">\n",
       "  <thead>\n",
       "    <tr style=\"text-align: right;\">\n",
       "      <th></th>\n",
       "      <th>Date</th>\n",
       "      <th>Trades</th>\n",
       "    </tr>\n",
       "  </thead>\n",
       "  <tbody>\n",
       "    <tr>\n",
       "      <th>0</th>\n",
       "      <td>01</td>\n",
       "      <td>111447.565217</td>\n",
       "    </tr>\n",
       "    <tr>\n",
       "      <th>1</th>\n",
       "      <td>02</td>\n",
       "      <td>115368.000000</td>\n",
       "    </tr>\n",
       "    <tr>\n",
       "      <th>2</th>\n",
       "      <td>03</td>\n",
       "      <td>229286.761905</td>\n",
       "    </tr>\n",
       "    <tr>\n",
       "      <th>3</th>\n",
       "      <td>04</td>\n",
       "      <td>204174.944444</td>\n",
       "    </tr>\n",
       "    <tr>\n",
       "      <th>4</th>\n",
       "      <td>05</td>\n",
       "      <td>146416.789474</td>\n",
       "    </tr>\n",
       "    <tr>\n",
       "      <th>5</th>\n",
       "      <td>06</td>\n",
       "      <td>130113.727273</td>\n",
       "    </tr>\n",
       "    <tr>\n",
       "      <th>6</th>\n",
       "      <td>07</td>\n",
       "      <td>168969.521739</td>\n",
       "    </tr>\n",
       "    <tr>\n",
       "      <th>7</th>\n",
       "      <td>08</td>\n",
       "      <td>106161.000000</td>\n",
       "    </tr>\n",
       "    <tr>\n",
       "      <th>8</th>\n",
       "      <td>09</td>\n",
       "      <td>182609.636364</td>\n",
       "    </tr>\n",
       "    <tr>\n",
       "      <th>9</th>\n",
       "      <td>10</td>\n",
       "      <td>200509.619048</td>\n",
       "    </tr>\n",
       "    <tr>\n",
       "      <th>10</th>\n",
       "      <td>11</td>\n",
       "      <td>140181.950000</td>\n",
       "    </tr>\n",
       "    <tr>\n",
       "      <th>11</th>\n",
       "      <td>12</td>\n",
       "      <td>128797.772727</td>\n",
       "    </tr>\n",
       "  </tbody>\n",
       "</table>\n",
       "</div>"
      ],
      "text/plain": [
       "   Date         Trades\n",
       "0    01  111447.565217\n",
       "1    02  115368.000000\n",
       "2    03  229286.761905\n",
       "3    04  204174.944444\n",
       "4    05  146416.789474\n",
       "5    06  130113.727273\n",
       "6    07  168969.521739\n",
       "7    08  106161.000000\n",
       "8    09  182609.636364\n",
       "9    10  200509.619048\n",
       "10   11  140181.950000\n",
       "11   12  128797.772727"
      ]
     },
     "execution_count": 67,
     "metadata": {},
     "output_type": "execute_result"
    }
   ],
   "source": [
    "months['Date'] = months['Date'].str[5:]\n",
    "months"
   ]
  },
  {
   "cell_type": "code",
   "execution_count": 68,
   "id": "11688716",
   "metadata": {},
   "outputs": [
    {
     "data": {
      "image/png": "[encoded data removed]",
      "text/plain": [
       "<Figure size 432x288 with 1 Axes>"
      ]
     },
     "metadata": {
      "needs_background": "light"
     },
     "output_type": "display_data"
    }
   ],
   "source": [
    "plt.scatter(months.Date, months.Trades, color= 'green')\n",
    "plt.xlabel('Date')\n",
    "plt.ylabel('Trades Value')\n",
    "plt.title('Date vs Trade')\n",
    "plt.show();"
   ]
  },
  {
   "cell_type": "markdown",
   "id": "9b5dc0ce",
   "metadata": {},
   "source": [
    "#### So, from above we can see that the trading was high during march and lowest in August."
   ]
  },
  {
   "cell_type": "markdown",
   "id": "092ac251",
   "metadata": {},
   "source": [
    "### Train test split"
   ]
  },
  {
   "cell_type": "markdown",
   "id": "a0a4012e",
   "metadata": {},
   "source": [
    "#### Now we will split the dataset into train and test data  to build a prediction model that will predict the trading value and then test the accuracy of our model with the testing dataset."
   ]
  },
  {
   "cell_type": "markdown",
   "id": "3255a4f2",
   "metadata": {},
   "source": [
    "First we will do the model prediction using the feature Open"
   ]
  },
  {
   "cell_type": "code",
   "execution_count": 77,
   "id": "580ac48e",
   "metadata": {},
   "outputs": [],
   "source": [
    "x = data2020[['Open']]\n",
    "y = data2020[['Trades']]"
   ]
  },
  {
   "cell_type": "code",
   "execution_count": 78,
   "id": "9d07dca9",
   "metadata": {},
   "outputs": [],
   "source": [
    "from sklearn.model_selection import train_test_split\n",
    "train_x, test_x, train_y, test_y = train_test_split(x, y, test_size = 0.2, random_state=0)"
   ]
  },
  {
   "cell_type": "markdown",
   "id": "3db97cb9",
   "metadata": {},
   "source": [
    "Before progressing, let's see how the training and the testing data set features vary with trade values."
   ]
  },
  {
   "cell_type": "code",
   "execution_count": 79,
   "id": "12aa0749",
   "metadata": {},
   "outputs": [
    {
     "data": {
      "image/png": "[encoded data removed]",
      "text/plain": [
       "<Figure size 432x288 with 1 Axes>"
      ]
     },
     "metadata": {
      "needs_background": "light"
     },
     "output_type": "display_data"
    }
   ],
   "source": [
    "plt.scatter(train_x, train_y, color='red')\n",
    "plt.xlabel('Open training dataset')\n",
    "plt.ylabel('Trade training dataset')\n",
    "plt.show();"
   ]
  },
  {
   "cell_type": "code",
   "execution_count": 80,
   "id": "1aad00e5",
   "metadata": {},
   "outputs": [
    {
     "data": {
      "image/png": "[encoded data removed]",
      "text/plain": [
       "<Figure size 432x288 with 1 Axes>"
      ]
     },
     "metadata": {
      "needs_background": "light"
     },
     "output_type": "display_data"
    }
   ],
   "source": [
    "plt.scatter(test_x, test_y, color='red')\n",
    "plt.xlabel('Open testing dataset')\n",
    "plt.ylabel('Trade testing dataset')\n",
    "plt.show();"
   ]
  },
  {
   "cell_type": "markdown",
   "id": "cb53ba5b",
   "metadata": {},
   "source": [
    "### Model building:"
   ]
  },
  {
   "cell_type": "markdown",
   "id": "096f1937",
   "metadata": {},
   "source": [
    "Now we will build the model for prediction"
   ]
  },
  {
   "cell_type": "code",
   "execution_count": 81,
   "id": "038856d5",
   "metadata": {},
   "outputs": [
    {
     "data": {
      "text/plain": [
       "LinearRegression()"
      ]
     },
     "execution_count": 81,
     "metadata": {},
     "output_type": "execute_result"
    }
   ],
   "source": [
    "from sklearn.linear_model import LinearRegression\n",
    "regr1 = LinearRegression()\n",
    "regr1.fit(train_x,train_y)"
   ]
  },
  {
   "cell_type": "code",
   "execution_count": 82,
   "id": "691b4019",
   "metadata": {},
   "outputs": [
    {
     "name": "stdout",
     "output_type": "stream",
     "text": [
      "Coefficient of the Linear regression line is:   [[-31.72607641]]\n",
      "Intercept of the Linear regression line is:   [226887.58627835]\n"
     ]
    }
   ],
   "source": [
    "print('Coefficient of the Linear regression line is:  ', regr1.coef_)\n",
    "print('Intercept of the Linear regression line is:  ',regr1.intercept_)"
   ]
  },
  {
   "cell_type": "markdown",
   "id": "c7020390",
   "metadata": {},
   "source": [
    "#### Now, we will look into how well the predicted line will fit into the data"
   ]
  },
  {
   "cell_type": "code",
   "execution_count": 83,
   "id": "ee89bbba",
   "metadata": {},
   "outputs": [
    {
     "data": {
      "image/png": "[encoded data removed]",
      "text/plain": [
       "<Figure size 432x288 with 1 Axes>"
      ]
     },
     "metadata": {
      "needs_background": "light"
     },
     "output_type": "display_data"
    }
   ],
   "source": [
    "plt.scatter(train_x, train_y, color='red')\n",
    "yhat = regr1.intercept_ + regr1.coef_*train_x\n",
    "plt.plot(train_x, yhat, color='black')\n",
    "plt.xlabel('Open value')\n",
    "plt.ylabel('Trade value')\n",
    "plt.show();"
   ]
  },
  {
   "cell_type": "markdown",
   "id": "63c0f13b",
   "metadata": {},
   "source": [
    "From the above graph we can see that the line is not a best fit for the dataset as the variation of the data is pretty much. So, for the trading prediction, simple linear regression is not a best choice as the prediction shows high MSE."
   ]
  },
  {
   "cell_type": "markdown",
   "id": "e3cebd22",
   "metadata": {},
   "source": [
    "#### At last, we will evaluate the model accuracy with the test data set."
   ]
  },
  {
   "cell_type": "code",
   "execution_count": 84,
   "id": "71d16390",
   "metadata": {},
   "outputs": [
    {
     "data": {
      "text/plain": [
       "array([[154667.93225256],\n",
       "       [164859.93429784],\n",
       "       [154710.76245571],\n",
       "       [163752.69423129],\n",
       "       [153663.80193432],\n",
       "       [139637.70355543],\n",
       "       [162356.74686945],\n",
       "       [140307.12376758],\n",
       "       [168594.09349078],\n",
       "       [155916.35335912],\n",
       "       [154710.76245571],\n",
       "       [138882.62293697],\n",
       "       [160262.82582668],\n",
       "       [147921.38210492],\n",
       "       [154287.21933569],\n",
       "       [168828.86645618],\n",
       "       [141546.02705122],\n",
       "       [154266.59738603],\n",
       "       [155097.82058785],\n",
       "       [162959.54232115],\n",
       "       [149639.34914228],\n",
       "       [161658.77318852],\n",
       "       [137991.12018998],\n",
       "       [156106.70981755],\n",
       "       [163080.10141149],\n",
       "       [134881.96470223],\n",
       "       [156523.90772228],\n",
       "       [177404.4249086 ],\n",
       "       [136626.89890454],\n",
       "       [156947.4508423 ],\n",
       "       [135641.80423215],\n",
       "       [156931.5878041 ],\n",
       "       [162194.94387978],\n",
       "       [148048.28641054],\n",
       "       [155599.09259506],\n",
       "       [153817.67340489],\n",
       "       [149475.95984879],\n",
       "       [156931.5878041 ],\n",
       "       [159012.8184163 ],\n",
       "       [143765.26609579],\n",
       "       [158243.46106347],\n",
       "       [155797.3805726 ],\n",
       "       [141614.23811549],\n",
       "       [147922.96840874],\n",
       "       [166290.78034373],\n",
       "       [156170.16197036],\n",
       "       [138286.17270055],\n",
       "       [162800.91193912],\n",
       "       [168958.94336944],\n",
       "       [148682.80793865],\n",
       "       [172637.58192867]])"
      ]
     },
     "execution_count": 84,
     "metadata": {},
     "output_type": "execute_result"
    }
   ],
   "source": [
    "from sklearn.metrics import r2_score\n",
    "predict_y = regr1.predict(test_x)\n",
    "predict_y"
   ]
  },
  {
   "cell_type": "code",
   "execution_count": 85,
   "id": "ec8d1bf4",
   "metadata": {},
   "outputs": [
    {
     "data": {
      "image/png": "[encoded data removed]",
      "text/plain": [
       "<Figure size 432x288 with 1 Axes>"
      ]
     },
     "metadata": {
      "needs_background": "light"
     },
     "output_type": "display_data"
    }
   ],
   "source": [
    "plt.scatter(test_x, test_y, color='yellow')\n",
    "plt.plot(test_x, predict_y, color='red')\n",
    "plt.xlabel('Open Value')\n",
    "plt.ylabel('Trade value')\n",
    "plt.show();"
   ]
  },
  {
   "cell_type": "markdown",
   "id": "32e200ce",
   "metadata": {},
   "source": [
    "The above graph shows there is a lot of error in the prediction for the unknown dataset."
   ]
  },
  {
   "cell_type": "code",
   "execution_count": 86,
   "id": "b1b40c80",
   "metadata": {},
   "outputs": [
    {
     "name": "stdout",
     "output_type": "stream",
     "text": [
      "Mean Absolute Error:    Trades    41503.739936\n",
      "dtype: float64\n",
      "Mean Squared Error:     Trades    4.146470e+09\n",
      "dtype: float64\n",
      "R2 Score:     0.008529601695592248\n"
     ]
    }
   ],
   "source": [
    "print('Mean Absolute Error:   ', np.mean(np.absolute(test_y - predict_y)))\n",
    "print('Mean Squared Error:    ', np.mean((test_y - predict_y)**2))\n",
    "print('R2 Score:    ',r2_score(test_y, predict_y))"
   ]
  },
  {
   "cell_type": "markdown",
   "id": "ea179c4f",
   "metadata": {},
   "source": [
    "Value of r2 score is much less, which shows that the feature is not a good feature for trading prediction and also the method of simple linear regression is not suitable for the purpose."
   ]
  },
  {
   "cell_type": "markdown",
   "id": "14889aa6",
   "metadata": {},
   "source": [
    "##### Let's see the trade due to the feature High now."
   ]
  },
  {
   "cell_type": "code",
   "execution_count": 87,
   "id": "c389853b",
   "metadata": {},
   "outputs": [
    {
     "name": "stdout",
     "output_type": "stream",
     "text": [
      "Coefficient of the Linear regression line is:   [[-21.91512111]]\n",
      "Intercept of the Linear regression line is:   [205447.14401318]\n"
     ]
    }
   ],
   "source": [
    "x = data2020[['High']]\n",
    "y = data2020[['Trades']]\n",
    "train_x, test_x, train_y, test_y = train_test_split(x, y, test_size = 0.2, random_state=0)\n",
    "regr2 = LinearRegression()\n",
    "regr2.fit(train_x,train_y)\n",
    "print('Coefficient of the Linear regression line is:  ', regr2.coef_)\n",
    "print('Intercept of the Linear regression line is:  ',regr2.intercept_)"
   ]
  },
  {
   "cell_type": "code",
   "execution_count": 89,
   "id": "905b2fb5",
   "metadata": {},
   "outputs": [
    {
     "data": {
      "image/png": "[encoded data removed]",
      "text/plain": [
       "<Figure size 432x288 with 1 Axes>"
      ]
     },
     "metadata": {
      "needs_background": "light"
     },
     "output_type": "display_data"
    }
   ],
   "source": [
    "plt.scatter(train_x, train_y, color='red')\n",
    "yhat = regr2.intercept_ + regr2.coef_*train_x\n",
    "plt.plot(train_x, yhat, color='black')\n",
    "plt.xlabel('Open value')\n",
    "plt.ylabel('Trade value')\n",
    "plt.show();"
   ]
  },
  {
   "cell_type": "code",
   "execution_count": 90,
   "id": "de93507a",
   "metadata": {},
   "outputs": [
    {
     "data": {
      "text/plain": [
       "array([[155379.85831394],\n",
       "       [162120.9495689 ],\n",
       "       [154510.92376173],\n",
       "       [160301.99451636],\n",
       "       [154428.74205755],\n",
       "       [144706.0985749 ],\n",
       "       [160208.85525162],\n",
       "       [145554.21376204],\n",
       "       [164794.59434493],\n",
       "       [156271.80374332],\n",
       "       [154615.02058703],\n",
       "       [144656.78955239],\n",
       "       [159315.81406619],\n",
       "       [150549.7656202 ],\n",
       "       [155121.25988478],\n",
       "       [165342.4723728 ],\n",
       "       [146058.26154769],\n",
       "       [154089.05768027],\n",
       "       [155283.43178103],\n",
       "       [161090.9388765 ],\n",
       "       [150417.17913746],\n",
       "       [159547.01859395],\n",
       "       [143997.14440683],\n",
       "       [156554.5088057 ],\n",
       "       [160538.6778244 ],\n",
       "       [141783.71717422],\n",
       "       [156818.58601514],\n",
       "       [168510.30312997],\n",
       "       [142881.66474207],\n",
       "       [156918.29981621],\n",
       "       [141476.90547861],\n",
       "       [155702.01059433],\n",
       "       [160323.90963747],\n",
       "       [149454.00956445],\n",
       "       [155727.21298361],\n",
       "       [154279.71923397],\n",
       "       [151886.58800821],\n",
       "       [155918.97029337],\n",
       "       [158453.45405031],\n",
       "       [145660.50209945],\n",
       "       [157124.30195469],\n",
       "       [156060.32282456],\n",
       "       [146232.48676055],\n",
       "       [150492.7863053 ],\n",
       "       [163302.174597  ],\n",
       "       [156258.65467065],\n",
       "       [143916.0584587 ],\n",
       "       [160301.99451636],\n",
       "       [165238.3755475 ],\n",
       "       [150551.95713231],\n",
       "       [166769.14675738]])"
      ]
     },
     "execution_count": 90,
     "metadata": {},
     "output_type": "execute_result"
    }
   ],
   "source": [
    "from sklearn.metrics import r2_score\n",
    "predict_y = regr2.predict(test_x)\n",
    "predict_y"
   ]
  },
  {
   "cell_type": "code",
   "execution_count": 91,
   "id": "7352d867",
   "metadata": {},
   "outputs": [
    {
     "data": {
      "image/png": "[encoded data removed]",
      "text/plain": [
       "<Figure size 432x288 with 1 Axes>"
      ]
     },
     "metadata": {
      "needs_background": "light"
     },
     "output_type": "display_data"
    }
   ],
   "source": [
    "plt.scatter(test_x, test_y, color='yellow')\n",
    "plt.plot(test_x, predict_y, color='red')\n",
    "plt.xlabel('Open Value')\n",
    "plt.ylabel('Trade value')\n",
    "plt.show();"
   ]
  },
  {
   "cell_type": "code",
   "execution_count": 92,
   "id": "d6f219a7",
   "metadata": {},
   "outputs": [
    {
     "name": "stdout",
     "output_type": "stream",
     "text": [
      "Mean Absolute Error:    Trades    42150.02998\n",
      "dtype: float64\n",
      "Mean Squared Error:     Trades    4.188154e+09\n",
      "dtype: float64\n",
      "R2 Score:     -0.0014375708367617701\n"
     ]
    }
   ],
   "source": [
    "print('Mean Absolute Error:   ', np.mean(np.absolute(test_y - predict_y)))\n",
    "print('Mean Squared Error:    ', np.mean((test_y - predict_y)**2))\n",
    "print('R2 Score:    ',r2_score(test_y, predict_y))"
   ]
  }
 ],
 "metadata": {
  "kernelspec": {
   "display_name": "Python 3",
   "language": "python",
   "name": "python3"
  },
  "language_info": {
   "codemirror_mode": {
    "name": "ipython",
    "version": 3
   },
   "file_extension": ".py",
   "mimetype": "text/x-python",
   "name": "python",
   "nbconvert_exporter": "python",
   "pygments_lexer": "ipython3",
   "version": "3.8.8"
  }
 },
 "nbformat": 4,
 "nbformat_minor": 5
}
