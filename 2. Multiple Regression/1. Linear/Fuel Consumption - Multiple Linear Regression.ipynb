{
 "cells": [
  {
   "cell_type": "markdown",
   "id": "46ea593d",
   "metadata": {},
   "source": [
    "### Prediction of fuel consumption using Multiple Linear Regression"
   ]
  },
  {
   "cell_type": "markdown",
   "id": "316b6862",
   "metadata": {},
   "source": [
    "#### In this project, we will be predicting the co2 emission of the vehicles using multiple linear regression, that is multiple features will be used to train the model and predict the outcome, which in our case is co2 emission."
   ]
  },
  {
   "cell_type": "markdown",
   "id": "855a37fc",
   "metadata": {},
   "source": [
    "### Importing the libraries and the data file"
   ]
  },
  {
   "cell_type": "code",
   "execution_count": 1,
   "id": "06099f10",
   "metadata": {},
   "outputs": [],
   "source": [
    "import pandas as pd\n",
    "import numpy as np\n",
    "import matplotlib.pyplot as plt\n",
    "%matplotlib inline"
   ]
  },
  {
   "cell_type": "code",
   "execution_count": 2,
   "id": "a5341f4a",
   "metadata": {},
   "outputs": [
    {
     "data": {
      "text/html": [
       "<div>\n",
       "<style scoped>\n",
       "    .dataframe tbody tr th:only-of-type {\n",
       "        vertical-align: middle;\n",
       "    }\n",
       "\n",
       "    .dataframe tbody tr th {\n",
       "        vertical-align: top;\n",
       "    }\n",
       "\n",
       "    .dataframe thead th {\n",
       "        text-align: right;\n",
       "    }\n",
       "</style>\n",
       "<table border=\"1\" class=\"dataframe\">\n",
       "  <thead>\n",
       "    <tr style=\"text-align: right;\">\n",
       "      <th></th>\n",
       "      <th>MODELYEAR</th>\n",
       "      <th>MAKE</th>\n",
       "      <th>MODEL</th>\n",
       "      <th>VEHICLECLASS</th>\n",
       "      <th>ENGINESIZE</th>\n",
       "      <th>CYLINDERS</th>\n",
       "      <th>TRANSMISSION</th>\n",
       "      <th>FUELTYPE</th>\n",
       "      <th>FUELCONSUMPTION_CITY</th>\n",
       "      <th>FUELCONSUMPTION_HWY</th>\n",
       "      <th>FUELCONSUMPTION_COMB</th>\n",
       "      <th>FUELCONSUMPTION_COMB_MPG</th>\n",
       "      <th>CO2EMISSIONS</th>\n",
       "    </tr>\n",
       "  </thead>\n",
       "  <tbody>\n",
       "    <tr>\n",
       "      <th>0</th>\n",
       "      <td>2014</td>\n",
       "      <td>ACURA</td>\n",
       "      <td>ILX</td>\n",
       "      <td>COMPACT</td>\n",
       "      <td>2.0</td>\n",
       "      <td>4</td>\n",
       "      <td>AS5</td>\n",
       "      <td>Z</td>\n",
       "      <td>9.9</td>\n",
       "      <td>6.7</td>\n",
       "      <td>8.5</td>\n",
       "      <td>33</td>\n",
       "      <td>196</td>\n",
       "    </tr>\n",
       "    <tr>\n",
       "      <th>1</th>\n",
       "      <td>2014</td>\n",
       "      <td>ACURA</td>\n",
       "      <td>ILX</td>\n",
       "      <td>COMPACT</td>\n",
       "      <td>2.4</td>\n",
       "      <td>4</td>\n",
       "      <td>M6</td>\n",
       "      <td>Z</td>\n",
       "      <td>11.2</td>\n",
       "      <td>7.7</td>\n",
       "      <td>9.6</td>\n",
       "      <td>29</td>\n",
       "      <td>221</td>\n",
       "    </tr>\n",
       "    <tr>\n",
       "      <th>2</th>\n",
       "      <td>2014</td>\n",
       "      <td>ACURA</td>\n",
       "      <td>ILX HYBRID</td>\n",
       "      <td>COMPACT</td>\n",
       "      <td>1.5</td>\n",
       "      <td>4</td>\n",
       "      <td>AV7</td>\n",
       "      <td>Z</td>\n",
       "      <td>6.0</td>\n",
       "      <td>5.8</td>\n",
       "      <td>5.9</td>\n",
       "      <td>48</td>\n",
       "      <td>136</td>\n",
       "    </tr>\n",
       "    <tr>\n",
       "      <th>3</th>\n",
       "      <td>2014</td>\n",
       "      <td>ACURA</td>\n",
       "      <td>MDX 4WD</td>\n",
       "      <td>SUV - SMALL</td>\n",
       "      <td>3.5</td>\n",
       "      <td>6</td>\n",
       "      <td>AS6</td>\n",
       "      <td>Z</td>\n",
       "      <td>12.7</td>\n",
       "      <td>9.1</td>\n",
       "      <td>11.1</td>\n",
       "      <td>25</td>\n",
       "      <td>255</td>\n",
       "    </tr>\n",
       "    <tr>\n",
       "      <th>4</th>\n",
       "      <td>2014</td>\n",
       "      <td>ACURA</td>\n",
       "      <td>RDX AWD</td>\n",
       "      <td>SUV - SMALL</td>\n",
       "      <td>3.5</td>\n",
       "      <td>6</td>\n",
       "      <td>AS6</td>\n",
       "      <td>Z</td>\n",
       "      <td>12.1</td>\n",
       "      <td>8.7</td>\n",
       "      <td>10.6</td>\n",
       "      <td>27</td>\n",
       "      <td>244</td>\n",
       "    </tr>\n",
       "  </tbody>\n",
       "</table>\n",
       "</div>"
      ],
      "text/plain": [
       "   MODELYEAR   MAKE       MODEL VEHICLECLASS  ENGINESIZE  CYLINDERS  \\\n",
       "0       2014  ACURA         ILX      COMPACT         2.0          4   \n",
       "1       2014  ACURA         ILX      COMPACT         2.4          4   \n",
       "2       2014  ACURA  ILX HYBRID      COMPACT         1.5          4   \n",
       "3       2014  ACURA     MDX 4WD  SUV - SMALL         3.5          6   \n",
       "4       2014  ACURA     RDX AWD  SUV - SMALL         3.5          6   \n",
       "\n",
       "  TRANSMISSION FUELTYPE  FUELCONSUMPTION_CITY  FUELCONSUMPTION_HWY  \\\n",
       "0          AS5        Z                   9.9                  6.7   \n",
       "1           M6        Z                  11.2                  7.7   \n",
       "2          AV7        Z                   6.0                  5.8   \n",
       "3          AS6        Z                  12.7                  9.1   \n",
       "4          AS6        Z                  12.1                  8.7   \n",
       "\n",
       "   FUELCONSUMPTION_COMB  FUELCONSUMPTION_COMB_MPG  CO2EMISSIONS  \n",
       "0                   8.5                        33           196  \n",
       "1                   9.6                        29           221  \n",
       "2                   5.9                        48           136  \n",
       "3                  11.1                        25           255  \n",
       "4                  10.6                        27           244  "
      ]
     },
     "execution_count": 2,
     "metadata": {},
     "output_type": "execute_result"
    }
   ],
   "source": [
    "df = pd.read_csv('fuel.csv')\n",
    "df.head()"
   ]
  },
  {
   "cell_type": "markdown",
   "id": "2fd98c15",
   "metadata": {},
   "source": [
    "#### Some of the features are selected for predicting the co2 emission."
   ]
  },
  {
   "cell_type": "code",
   "execution_count": 3,
   "id": "784b54e3",
   "metadata": {},
   "outputs": [
    {
     "data": {
      "text/html": [
       "<div>\n",
       "<style scoped>\n",
       "    .dataframe tbody tr th:only-of-type {\n",
       "        vertical-align: middle;\n",
       "    }\n",
       "\n",
       "    .dataframe tbody tr th {\n",
       "        vertical-align: top;\n",
       "    }\n",
       "\n",
       "    .dataframe thead th {\n",
       "        text-align: right;\n",
       "    }\n",
       "</style>\n",
       "<table border=\"1\" class=\"dataframe\">\n",
       "  <thead>\n",
       "    <tr style=\"text-align: right;\">\n",
       "      <th></th>\n",
       "      <th>ENGINESIZE</th>\n",
       "      <th>CYLINDERS</th>\n",
       "      <th>FUELCONSUMPTION_CITY</th>\n",
       "      <th>FUELCONSUMPTION_HWY</th>\n",
       "      <th>FUELCONSUMPTION_COMB</th>\n",
       "      <th>CO2EMISSIONS</th>\n",
       "    </tr>\n",
       "  </thead>\n",
       "  <tbody>\n",
       "    <tr>\n",
       "      <th>0</th>\n",
       "      <td>2.0</td>\n",
       "      <td>4</td>\n",
       "      <td>9.9</td>\n",
       "      <td>6.7</td>\n",
       "      <td>8.5</td>\n",
       "      <td>196</td>\n",
       "    </tr>\n",
       "    <tr>\n",
       "      <th>1</th>\n",
       "      <td>2.4</td>\n",
       "      <td>4</td>\n",
       "      <td>11.2</td>\n",
       "      <td>7.7</td>\n",
       "      <td>9.6</td>\n",
       "      <td>221</td>\n",
       "    </tr>\n",
       "    <tr>\n",
       "      <th>2</th>\n",
       "      <td>1.5</td>\n",
       "      <td>4</td>\n",
       "      <td>6.0</td>\n",
       "      <td>5.8</td>\n",
       "      <td>5.9</td>\n",
       "      <td>136</td>\n",
       "    </tr>\n",
       "    <tr>\n",
       "      <th>3</th>\n",
       "      <td>3.5</td>\n",
       "      <td>6</td>\n",
       "      <td>12.7</td>\n",
       "      <td>9.1</td>\n",
       "      <td>11.1</td>\n",
       "      <td>255</td>\n",
       "    </tr>\n",
       "    <tr>\n",
       "      <th>4</th>\n",
       "      <td>3.5</td>\n",
       "      <td>6</td>\n",
       "      <td>12.1</td>\n",
       "      <td>8.7</td>\n",
       "      <td>10.6</td>\n",
       "      <td>244</td>\n",
       "    </tr>\n",
       "  </tbody>\n",
       "</table>\n",
       "</div>"
      ],
      "text/plain": [
       "   ENGINESIZE  CYLINDERS  FUELCONSUMPTION_CITY  FUELCONSUMPTION_HWY  \\\n",
       "0         2.0          4                   9.9                  6.7   \n",
       "1         2.4          4                  11.2                  7.7   \n",
       "2         1.5          4                   6.0                  5.8   \n",
       "3         3.5          6                  12.7                  9.1   \n",
       "4         3.5          6                  12.1                  8.7   \n",
       "\n",
       "   FUELCONSUMPTION_COMB  CO2EMISSIONS  \n",
       "0                   8.5           196  \n",
       "1                   9.6           221  \n",
       "2                   5.9           136  \n",
       "3                  11.1           255  \n",
       "4                  10.6           244  "
      ]
     },
     "execution_count": 3,
     "metadata": {},
     "output_type": "execute_result"
    }
   ],
   "source": [
    "df = df[['ENGINESIZE','CYLINDERS','FUELCONSUMPTION_CITY','FUELCONSUMPTION_HWY','FUELCONSUMPTION_COMB','CO2EMISSIONS']]\n",
    "df.head()"
   ]
  },
  {
   "cell_type": "markdown",
   "id": "ad890df1",
   "metadata": {},
   "source": [
    "### Creating training and testing dataset"
   ]
  },
  {
   "cell_type": "markdown",
   "id": "0f3535b7",
   "metadata": {},
   "source": [
    "Now we will be creating the training and the testing data set for the model."
   ]
  },
  {
   "cell_type": "code",
   "execution_count": 7,
   "id": "1b0f19be",
   "metadata": {},
   "outputs": [
    {
     "data": {
      "text/html": [
       "<div>\n",
       "<style scoped>\n",
       "    .dataframe tbody tr th:only-of-type {\n",
       "        vertical-align: middle;\n",
       "    }\n",
       "\n",
       "    .dataframe tbody tr th {\n",
       "        vertical-align: top;\n",
       "    }\n",
       "\n",
       "    .dataframe thead th {\n",
       "        text-align: right;\n",
       "    }\n",
       "</style>\n",
       "<table border=\"1\" class=\"dataframe\">\n",
       "  <thead>\n",
       "    <tr style=\"text-align: right;\">\n",
       "      <th></th>\n",
       "      <th>ENGINESIZE</th>\n",
       "      <th>CYLINDERS</th>\n",
       "      <th>FUELCONSUMPTION_CITY</th>\n",
       "      <th>FUELCONSUMPTION_HWY</th>\n",
       "      <th>FUELCONSUMPTION_COMB</th>\n",
       "      <th>CO2EMISSIONS</th>\n",
       "    </tr>\n",
       "  </thead>\n",
       "  <tbody>\n",
       "    <tr>\n",
       "      <th>0</th>\n",
       "      <td>2.0</td>\n",
       "      <td>4</td>\n",
       "      <td>9.9</td>\n",
       "      <td>6.7</td>\n",
       "      <td>8.5</td>\n",
       "      <td>196</td>\n",
       "    </tr>\n",
       "    <tr>\n",
       "      <th>2</th>\n",
       "      <td>1.5</td>\n",
       "      <td>4</td>\n",
       "      <td>6.0</td>\n",
       "      <td>5.8</td>\n",
       "      <td>5.9</td>\n",
       "      <td>136</td>\n",
       "    </tr>\n",
       "    <tr>\n",
       "      <th>4</th>\n",
       "      <td>3.5</td>\n",
       "      <td>6</td>\n",
       "      <td>12.1</td>\n",
       "      <td>8.7</td>\n",
       "      <td>10.6</td>\n",
       "      <td>244</td>\n",
       "    </tr>\n",
       "  </tbody>\n",
       "</table>\n",
       "</div>"
      ],
      "text/plain": [
       "   ENGINESIZE  CYLINDERS  FUELCONSUMPTION_CITY  FUELCONSUMPTION_HWY  \\\n",
       "0         2.0          4                   9.9                  6.7   \n",
       "2         1.5          4                   6.0                  5.8   \n",
       "4         3.5          6                  12.1                  8.7   \n",
       "\n",
       "   FUELCONSUMPTION_COMB  CO2EMISSIONS  \n",
       "0                   8.5           196  \n",
       "2                   5.9           136  \n",
       "4                  10.6           244  "
      ]
     },
     "execution_count": 7,
     "metadata": {},
     "output_type": "execute_result"
    }
   ],
   "source": [
    "mask = np.random.rand(len(df)) < 0.8\n",
    "train = df[mask]\n",
    "train.head(3)"
   ]
  },
  {
   "cell_type": "code",
   "execution_count": 9,
   "id": "d524a419",
   "metadata": {},
   "outputs": [
    {
     "data": {
      "text/html": [
       "<div>\n",
       "<style scoped>\n",
       "    .dataframe tbody tr th:only-of-type {\n",
       "        vertical-align: middle;\n",
       "    }\n",
       "\n",
       "    .dataframe tbody tr th {\n",
       "        vertical-align: top;\n",
       "    }\n",
       "\n",
       "    .dataframe thead th {\n",
       "        text-align: right;\n",
       "    }\n",
       "</style>\n",
       "<table border=\"1\" class=\"dataframe\">\n",
       "  <thead>\n",
       "    <tr style=\"text-align: right;\">\n",
       "      <th></th>\n",
       "      <th>ENGINESIZE</th>\n",
       "      <th>CYLINDERS</th>\n",
       "      <th>FUELCONSUMPTION_CITY</th>\n",
       "      <th>FUELCONSUMPTION_HWY</th>\n",
       "      <th>FUELCONSUMPTION_COMB</th>\n",
       "      <th>CO2EMISSIONS</th>\n",
       "    </tr>\n",
       "  </thead>\n",
       "  <tbody>\n",
       "    <tr>\n",
       "      <th>1</th>\n",
       "      <td>2.4</td>\n",
       "      <td>4</td>\n",
       "      <td>11.2</td>\n",
       "      <td>7.7</td>\n",
       "      <td>9.6</td>\n",
       "      <td>221</td>\n",
       "    </tr>\n",
       "    <tr>\n",
       "      <th>3</th>\n",
       "      <td>3.5</td>\n",
       "      <td>6</td>\n",
       "      <td>12.7</td>\n",
       "      <td>9.1</td>\n",
       "      <td>11.1</td>\n",
       "      <td>255</td>\n",
       "    </tr>\n",
       "    <tr>\n",
       "      <th>7</th>\n",
       "      <td>3.7</td>\n",
       "      <td>6</td>\n",
       "      <td>12.8</td>\n",
       "      <td>9.0</td>\n",
       "      <td>11.1</td>\n",
       "      <td>255</td>\n",
       "    </tr>\n",
       "  </tbody>\n",
       "</table>\n",
       "</div>"
      ],
      "text/plain": [
       "   ENGINESIZE  CYLINDERS  FUELCONSUMPTION_CITY  FUELCONSUMPTION_HWY  \\\n",
       "1         2.4          4                  11.2                  7.7   \n",
       "3         3.5          6                  12.7                  9.1   \n",
       "7         3.7          6                  12.8                  9.0   \n",
       "\n",
       "   FUELCONSUMPTION_COMB  CO2EMISSIONS  \n",
       "1                   9.6           221  \n",
       "3                  11.1           255  \n",
       "7                  11.1           255  "
      ]
     },
     "execution_count": 9,
     "metadata": {},
     "output_type": "execute_result"
    }
   ],
   "source": [
    "test = df[~mask]\n",
    "test.head(3)"
   ]
  },
  {
   "cell_type": "markdown",
   "id": "34bcfcf0",
   "metadata": {},
   "source": [
    "### Model creation"
   ]
  },
  {
   "cell_type": "markdown",
   "id": "3d31a9c0",
   "metadata": {},
   "source": [
    "Now multiple linear regression model is created using multiple features in order to predict the target variable which is co2 emissions."
   ]
  },
  {
   "cell_type": "code",
   "execution_count": 10,
   "id": "0b9a4732",
   "metadata": {},
   "outputs": [],
   "source": [
    "from sklearn.linear_model import LinearRegression\n",
    "regr1 = LinearRegression()\n",
    "train_x = np.asanyarray(train[['ENGINESIZE', 'CYLINDERS', 'FUELCONSUMPTION_CITY']])\n",
    "train_y = np.asanyarray(train[['CO2EMISSIONS']])"
   ]
  },
  {
   "cell_type": "code",
   "execution_count": 12,
   "id": "57a4afdb",
   "metadata": {},
   "outputs": [
    {
     "name": "stdout",
     "output_type": "stream",
     "text": [
      "Coefficient of the Multiple Regression line is:    [[10.98535574  6.67116702  8.32131594]]\n",
      "Intercept of the Multiple Regression line is:    [70.00640306]\n"
     ]
    }
   ],
   "source": [
    "#fitting the training data set into the model for model learning\n",
    "\n",
    "regr1.fit(train_x, train_y)\n",
    "print('Coefficient of the Multiple Regression line is:   ', regr1.coef_)\n",
    "print('Intercept of the Multiple Regression line is:   ', regr1.intercept_)"
   ]
  },
  {
   "cell_type": "code",
   "execution_count": 13,
   "id": "e79b1048",
   "metadata": {},
   "outputs": [
    {
     "data": {
      "text/plain": [
       "array([[216.25466341],\n",
       "       [254.16286267],\n",
       "       [257.19206541],\n",
       "       [262.18485497],\n",
       "       [208.53199474],\n",
       "       [214.3569159 ],\n",
       "       [218.51757387],\n",
       "       [224.53836858],\n",
       "       [289.64050646],\n",
       "       [227.03476336],\n",
       "       [218.51757387],\n",
       "       [201.0428104 ],\n",
       "       [250.33444799],\n",
       "       [252.83084277],\n",
       "       [205.20346837],\n",
       "       [382.39886048],\n",
       "       [203.53920518],\n",
       "       [181.90378374],\n",
       "       [205.20346837],\n",
       "       [206.86773155],\n",
       "       [240.34886886],\n",
       "       [237.85247408],\n",
       "       [203.53920518],\n",
       "       [206.86773155],\n",
       "       [247.00592161],\n",
       "       [296.53104353],\n",
       "       [247.00592161],\n",
       "       [219.54557902],\n",
       "       [230.36328974],\n",
       "       [296.53104353],\n",
       "       [208.53199474],\n",
       "       [271.07189853],\n",
       "       [214.3569159 ],\n",
       "       [219.34970546],\n",
       "       [259.42205621],\n",
       "       [249.5023164 ],\n",
       "       [355.41486876],\n",
       "       [330.45092095],\n",
       "       [266.07910896],\n",
       "       [187.79454421],\n",
       "       [181.96962305],\n",
       "       [306.02142546],\n",
       "       [377.14904916],\n",
       "       [333.87820629],\n",
       "       [380.47757554],\n",
       "       [333.87820629],\n",
       "       [392.12741785],\n",
       "       [351.68521305],\n",
       "       [268.77606842],\n",
       "       [323.6967536 ],\n",
       "       [182.80175464],\n",
       "       [184.46601783],\n",
       "       [173.94763075],\n",
       "       [360.50641729],\n",
       "       [195.28372855],\n",
       "       [317.46905874],\n",
       "       [252.76500346],\n",
       "       [259.42205621],\n",
       "       [317.46905874],\n",
       "       [319.96545352],\n",
       "       [196.88215243],\n",
       "       [207.10121588],\n",
       "       [211.26187385],\n",
       "       [329.95103264],\n",
       "       [265.24697737],\n",
       "       [296.86797793],\n",
       "       [309.34995184],\n",
       "       [228.73663732],\n",
       "       [270.23976693],\n",
       "       [267.74337215],\n",
       "       [182.80175464],\n",
       "       [177.80896508],\n",
       "       [182.80175464],\n",
       "       [175.3125703 ],\n",
       "       [328.68485205],\n",
       "       [354.11576852],\n",
       "       [253.33073108],\n",
       "       [201.64145767],\n",
       "       [211.86052112],\n",
       "       [267.47696817],\n",
       "       [307.11996104],\n",
       "       [185.83095739],\n",
       "       [262.48417861],\n",
       "       [203.53920518],\n",
       "       [192.48801014],\n",
       "       [162.76475709],\n",
       "       [206.03559996],\n",
       "       [289.9445212 ],\n",
       "       [209.9627736 ],\n",
       "       [223.17812014],\n",
       "       [268.57550374],\n",
       "       [333.87820629],\n",
       "       [378.81331235],\n",
       "       [336.37460107],\n",
       "       [440.59161496],\n",
       "       [268.77606842],\n",
       "       [327.12239457],\n",
       "       [314.73917963],\n",
       "       [360.50641729],\n",
       "       [240.01662558],\n",
       "       [243.34515195],\n",
       "       [182.20310738],\n",
       "       [274.96615251],\n",
       "       [219.58318979],\n",
       "       [217.08679501],\n",
       "       [185.83095739],\n",
       "       [196.6486681 ],\n",
       "       [250.53501266],\n",
       "       [316.43636247],\n",
       "       [241.18100046],\n",
       "       [221.01396865],\n",
       "       [309.77930972],\n",
       "       [265.31281668],\n",
       "       [310.61144132],\n",
       "       [308.11504654],\n",
       "       [247.53872957],\n",
       "       [217.08679501],\n",
       "       [203.53920518],\n",
       "       [215.42253182],\n",
       "       [208.76547907],\n",
       "       [329.95103264],\n",
       "       [236.1882109 ],\n",
       "       [347.62636078],\n",
       "       [215.42253182],\n",
       "       [208.76547907],\n",
       "       [196.34934447],\n",
       "       [200.2106788 ],\n",
       "       [204.13785245],\n",
       "       [216.02117909],\n",
       "       [184.99882579],\n",
       "       [208.53199474],\n",
       "       [224.34249502],\n",
       "       [212.69265271],\n",
       "       [260.32002711],\n",
       "       [328.08620479],\n",
       "       [321.42915204],\n",
       "       [162.23194913],\n",
       "       [235.68832259],\n",
       "       [299.7937306 ],\n",
       "       [259.15565223],\n",
       "       [214.3569159 ],\n",
       "       [386.56890067],\n",
       "       [204.03909349],\n",
       "       [196.05002084],\n",
       "       [192.38925117],\n",
       "       [186.8965733 ],\n",
       "       [194.05351436],\n",
       "       [246.67367833],\n",
       "       [312.77559281],\n",
       "       [345.22872497],\n",
       "       [241.18100046],\n",
       "       [202.17426563],\n",
       "       [240.84875717],\n",
       "       [185.83095739],\n",
       "       [184.99882579],\n",
       "       [189.99161535],\n",
       "       [191.65587854],\n",
       "       [191.65587854],\n",
       "       [191.65587854],\n",
       "       [189.99161535],\n",
       "       [189.99161535],\n",
       "       [210.42974226],\n",
       "       [200.2106788 ],\n",
       "       [343.83086576],\n",
       "       [284.61948835],\n",
       "       [272.43683808],\n",
       "       [201.87494199],\n",
       "       [199.87843552],\n",
       "       [181.37097578],\n",
       "       [245.57514275],\n",
       "       [259.12273258],\n",
       "       [256.6263378 ],\n",
       "       [228.73194621],\n",
       "       [235.38899896],\n",
       "       [281.05747765],\n",
       "       [300.92518583],\n",
       "       [235.38899896],\n",
       "       [254.49510596],\n",
       "       [321.62971671],\n",
       "       [198.54641562],\n",
       "       [209.03188305],\n",
       "       [209.03188305],\n",
       "       [158.42233983],\n",
       "       [198.54641562],\n",
       "       [242.3171468 ],\n",
       "       [204.87122508],\n",
       "       [186.06444171],\n",
       "       [188.02802853],\n",
       "       [183.03523897],\n",
       "       [256.65925745],\n",
       "       [155.57489638],\n",
       "       [160.56768594],\n",
       "       [207.36761986],\n",
       "       [212.36040942],\n",
       "       [274.63390923],\n",
       "       [235.36077041],\n",
       "       [222.87879651],\n",
       "       [198.84573925],\n",
       "       [198.84573925],\n",
       "       [222.36010282],\n",
       "       [231.83167937],\n",
       "       [264.41484578],\n",
       "       [255.02791392]])"
      ]
     },
     "execution_count": 13,
     "metadata": {},
     "output_type": "execute_result"
    }
   ],
   "source": [
    "#predicting the target variable now\n",
    "\n",
    "test_x = np.asanyarray(test[['ENGINESIZE', 'CYLINDERS', 'FUELCONSUMPTION_CITY']])\n",
    "test_y = np.asanyarray(test[['CO2EMISSIONS']])\n",
    "yhat = regr1.predict(test_x)\n",
    "yhat"
   ]
  },
  {
   "cell_type": "markdown",
   "id": "3b1cfed9",
   "metadata": {},
   "source": [
    "Let's look into the fitted line plot"
   ]
  },
  {
   "cell_type": "code",
   "execution_count": 47,
   "id": "729dd352",
   "metadata": {},
   "outputs": [
    {
     "data": {
      "image/png": "[encoded data removed]",
      "text/plain": [
       "<Figure size 432x288 with 1 Axes>"
      ]
     },
     "metadata": {
      "needs_background": "light"
     },
     "output_type": "display_data"
    }
   ],
   "source": [
    "plt.scatter(train['FUELCONSUMPTION_CITY'], train['CO2EMISSIONS'], color='red')\n",
    "plt.plot(test_x[:,2:], yhat, color='black');"
   ]
  },
  {
   "cell_type": "markdown",
   "id": "7be63050",
   "metadata": {},
   "source": [
    "The black line is the prediction values for the corresponding test x values and the line is showing a good fit."
   ]
  },
  {
   "cell_type": "markdown",
   "id": "40318d97",
   "metadata": {},
   "source": [
    "### Now the accuracy is checked for the model"
   ]
  },
  {
   "cell_type": "code",
   "execution_count": 48,
   "id": "f7dc05ca",
   "metadata": {},
   "outputs": [
    {
     "name": "stdout",
     "output_type": "stream",
     "text": [
      "R2 Score is:    0.8737060391792792\n"
     ]
    }
   ],
   "source": [
    "from sklearn.metrics import r2_score\n",
    "print('R2 Score is:   ', r2_score(test_y, yhat))"
   ]
  },
  {
   "cell_type": "code",
   "execution_count": 49,
   "id": "6d2095a1",
   "metadata": {},
   "outputs": [
    {
     "name": "stdout",
     "output_type": "stream",
     "text": [
      "Residual sum of squares: 491.89\n"
     ]
    }
   ],
   "source": [
    "print(\"Residual sum of squares: %.2f\"%np.mean((yhat - test_y) ** 2))"
   ]
  },
  {
   "cell_type": "code",
   "execution_count": 50,
   "id": "1a3ce126",
   "metadata": {},
   "outputs": [
    {
     "name": "stdout",
     "output_type": "stream",
     "text": [
      "Variance score: 0.87\n"
     ]
    }
   ],
   "source": [
    "print('Variance score: %.2f'%regr1.score(test_x, test_y))"
   ]
  },
  {
   "cell_type": "markdown",
   "id": "afd613dd",
   "metadata": {},
   "source": [
    "From the above scores it can be seen that the model prediction is quite accurate. R2 score and Variance value 1 means good accuracy and our model accuracy value is near to 1, which indicates good prediction."
   ]
  },
  {
   "cell_type": "markdown",
   "id": "32903472",
   "metadata": {},
   "source": [
    "#### Now let's make the prediction using other features."
   ]
  },
  {
   "cell_type": "code",
   "execution_count": 52,
   "id": "c120d48b",
   "metadata": {},
   "outputs": [
    {
     "name": "stdout",
     "output_type": "stream",
     "text": [
      "Coefficient of the Multiple Regression line is:    [[11.17847259  9.91516567 10.44499508]]\n",
      "Intercept of the Multiple Regression line is:    [62.26488292]\n"
     ]
    }
   ],
   "source": [
    "regr2 = LinearRegression()\n",
    "train_x = np.asanyarray(train[['ENGINESIZE', 'CYLINDERS', 'FUELCONSUMPTION_HWY']])\n",
    "train_y = np.asanyarray(train[['CO2EMISSIONS']])\n",
    "\n",
    "regr2.fit(train_x, train_y)\n",
    "print('Coefficient of the Multiple Regression line is:   ', regr2.coef_)\n",
    "print('Intercept of the Multiple Regression line is:   ', regr2.intercept_)"
   ]
  },
  {
   "cell_type": "code",
   "execution_count": 53,
   "id": "48009558",
   "metadata": {},
   "outputs": [
    {
     "data": {
      "image/png": "[encoded data removed]",
      "text/plain": [
       "<Figure size 432x288 with 1 Axes>"
      ]
     },
     "metadata": {
      "needs_background": "light"
     },
     "output_type": "display_data"
    }
   ],
   "source": [
    "test_x = np.asanyarray(test[['ENGINESIZE', 'CYLINDERS', 'FUELCONSUMPTION_CITY']])\n",
    "test_y = np.asanyarray(test[['CO2EMISSIONS']])\n",
    "yhat = regr2.predict(test_x)\n",
    "\n",
    "plt.scatter(train['FUELCONSUMPTION_CITY'], train['CO2EMISSIONS'], color='red')\n",
    "plt.plot(test_x[:,2:], yhat, color='black');"
   ]
  },
  {
   "cell_type": "code",
   "execution_count": 54,
   "id": "12bdc1a5",
   "metadata": {},
   "outputs": [
    {
     "name": "stdout",
     "output_type": "stream",
     "text": [
      "R2 Score is:    0.49413884805628294\n",
      "Residual sum of squares: 1970.22\n",
      "Variance score: 0.49\n"
     ]
    }
   ],
   "source": [
    "print('R2 Score is:   ', r2_score(test_y, yhat))\n",
    "print(\"Residual sum of squares: %.2f\" % np.mean((yhat - test_y) ** 2))\n",
    "print('Variance score: %.2f' % regr2.score(test_x, test_y))"
   ]
  },
  {
   "cell_type": "markdown",
   "id": "4ef2a903",
   "metadata": {},
   "source": [
    "From the above scores it can be seen that the model prediction is not much accurate. R2 score and Variance value 1 means good accuracy and our model accuracy value is near to 0.5 which indicates moderate prediction. Thus, selecting the feature of FUELCONSUMPTION_CITY is better than FUELCONSUMPTION_HWY, as the prediction result in case of the former is more accurate."
   ]
  }
 ],
 "metadata": {
  "kernelspec": {
   "display_name": "Python 3",
   "language": "python",
   "name": "python3"
  },
  "language_info": {
   "codemirror_mode": {
    "name": "ipython",
    "version": 3
   },
   "file_extension": ".py",
   "mimetype": "text/x-python",
   "name": "python",
   "nbconvert_exporter": "python",
   "pygments_lexer": "ipython3",
   "version": "3.8.8"
  }
 },
 "nbformat": 4,
 "nbformat_minor": 5
}
